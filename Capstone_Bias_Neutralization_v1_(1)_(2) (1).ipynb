{
  "cells": [
    {
      "cell_type": "markdown",
      "metadata": {
        "id": "82xB2DjdMMiF"
      },
      "source": [
        "##Obective:\n",
        "## 1- Neutralizing the biased text using Llama 3.2\n",
        "## 2- Neutralization evaluation using LLM Reclassification (here we are using Llama 3.2 and not DistilBERT).\n",
        "\n",
        "## Note: in the future we will use Llama with the full set of text to build confidence. Also, step 2 which is currently done with DistilBERT will be tested with the Llama 3.2 as it is done now.\n",
        "\n",
        "###Written by: Etienne Ndedi\n",
        "###Date: 11_25_2024"
      ]
    },
    {
      "cell_type": "markdown",
      "metadata": {
        "id": "oAAA-zAbL-NL"
      },
      "source": [
        "##1- Llama 3.2 debiasing\n",
        "\n",
        "##2-Llama 3.2 Reclassification after debiasing (experimental step)\n",
        "\n",
        "###  The Reclassification rates will provide support to our debiasing strategy"
      ]
    },
    {
      "cell_type": "code",
      "execution_count": null,
      "metadata": {
        "colab": {
          "base_uri": "https://localhost:8080/"
        },
        "id": "5Vv4YrW1Qe9k",
        "outputId": "88178009-0ad6-4260-c452-0fabb10cf4b9"
      },
      "outputs": [
        {
          "output_type": "stream",
          "name": "stdout",
          "text": [
            "Requirement already satisfied: openai==0.28 in /usr/local/lib/python3.10/dist-packages (0.28.0)\n",
            "Requirement already satisfied: requests>=2.20 in /usr/local/lib/python3.10/dist-packages (from openai==0.28) (2.32.3)\n",
            "Requirement already satisfied: tqdm in /usr/local/lib/python3.10/dist-packages (from openai==0.28) (4.66.6)\n",
            "Requirement already satisfied: aiohttp in /usr/local/lib/python3.10/dist-packages (from openai==0.28) (3.11.9)\n",
            "Requirement already satisfied: charset-normalizer<4,>=2 in /usr/local/lib/python3.10/dist-packages (from requests>=2.20->openai==0.28) (3.4.0)\n",
            "Requirement already satisfied: idna<4,>=2.5 in /usr/local/lib/python3.10/dist-packages (from requests>=2.20->openai==0.28) (3.10)\n",
            "Requirement already satisfied: urllib3<3,>=1.21.1 in /usr/local/lib/python3.10/dist-packages (from requests>=2.20->openai==0.28) (2.2.3)\n",
            "Requirement already satisfied: certifi>=2017.4.17 in /usr/local/lib/python3.10/dist-packages (from requests>=2.20->openai==0.28) (2024.8.30)\n",
            "Requirement already satisfied: aiohappyeyeballs>=2.3.0 in /usr/local/lib/python3.10/dist-packages (from aiohttp->openai==0.28) (2.4.4)\n",
            "Requirement already satisfied: aiosignal>=1.1.2 in /usr/local/lib/python3.10/dist-packages (from aiohttp->openai==0.28) (1.3.1)\n",
            "Requirement already satisfied: async-timeout<6.0,>=4.0 in /usr/local/lib/python3.10/dist-packages (from aiohttp->openai==0.28) (4.0.3)\n",
            "Requirement already satisfied: attrs>=17.3.0 in /usr/local/lib/python3.10/dist-packages (from aiohttp->openai==0.28) (24.2.0)\n",
            "Requirement already satisfied: frozenlist>=1.1.1 in /usr/local/lib/python3.10/dist-packages (from aiohttp->openai==0.28) (1.5.0)\n",
            "Requirement already satisfied: multidict<7.0,>=4.5 in /usr/local/lib/python3.10/dist-packages (from aiohttp->openai==0.28) (6.1.0)\n",
            "Requirement already satisfied: propcache>=0.2.0 in /usr/local/lib/python3.10/dist-packages (from aiohttp->openai==0.28) (0.2.1)\n",
            "Requirement already satisfied: yarl<2.0,>=1.17.0 in /usr/local/lib/python3.10/dist-packages (from aiohttp->openai==0.28) (1.18.3)\n",
            "Requirement already satisfied: typing-extensions>=4.1.0 in /usr/local/lib/python3.10/dist-packages (from multidict<7.0,>=4.5->aiohttp->openai==0.28) (4.12.2)\n"
          ]
        }
      ],
      "source": [
        "!pip install openai==0.28"
      ]
    },
    {
      "cell_type": "code",
      "execution_count": null,
      "metadata": {
        "id": "VB9gXxOZQnKB"
      },
      "outputs": [],
      "source": [
        "import torch\n",
        "from torch.utils.data import Dataset, DataLoader\n",
        "import pandas as pd\n",
        "import numpy as np\n",
        "import random\n",
        "%matplotlib inline\n",
        "import matplotlib.pyplot as plt"
      ]
    },
    {
      "cell_type": "code",
      "execution_count": null,
      "metadata": {
        "colab": {
          "base_uri": "https://localhost:8080/"
        },
        "id": "n1XHNK75QxJo",
        "outputId": "f9250f17-7e78-4351-94ae-fa08f9ae4b76"
      },
      "outputs": [
        {
          "output_type": "stream",
          "name": "stdout",
          "text": [
            "Mounted at /content/drive\n"
          ]
        }
      ],
      "source": [
        "from google.colab import drive\n",
        "drive.mount('/content/drive')"
      ]
    },
    {
      "cell_type": "markdown",
      "source": [
        "The file below has been replaced with the bias_test_med file which has a short length."
      ],
      "metadata": {
        "id": "MgQcer3KQA6I"
      }
    },
    {
      "cell_type": "code",
      "execution_count": null,
      "metadata": {
        "colab": {
          "base_uri": "https://localhost:8080/"
        },
        "id": "YGYZ-47GRENp",
        "outputId": "db7f3cfb-d875-494e-f9bf-83abf60781b6"
      },
      "outputs": [
        {
          "output_type": "execute_result",
          "data": {
            "text/plain": [
              "25666"
            ]
          },
          "metadata": {},
          "execution_count": 4
        }
      ],
      "source": [
        "bias_test_full = pd.read_csv(\"/content/bias_test_full.csv\", on_bad_lines='skip', engine='python')\n",
        "len(bias_test_full)"
      ]
    },
    {
      "cell_type": "code",
      "execution_count": null,
      "metadata": {
        "colab": {
          "base_uri": "https://localhost:8080/",
          "height": 310
        },
        "id": "gm7dTVyORjoS",
        "outputId": "c86bcb6c-2535-4d37-edc7-f472e0e84f14"
      },
      "outputs": [
        {
          "output_type": "stream",
          "name": "stdout",
          "text": [
            "Number of rows in DataFrame: 51332\n",
            "Number of columns in DataFrame: 2\n",
            "label\n",
            "0    25666\n",
            "1    25666\n",
            "Name: count, dtype: int64\n"
          ]
        },
        {
          "output_type": "execute_result",
          "data": {
            "text/plain": [
              "                                                 example  label  index\n",
              "36389  the reason is primarily historic: before 1990 ...      1  36389\n",
              "5119   the hilltop altar is located on the north side...      0   5119\n",
              "22206  the new york times is third in national circul...      0  22206\n",
              "33079  the four noble truths (pali: cattri ariyasaccn...      0  33079\n",
              "2656   the concept behind the set ranks being applied...      0   2656"
            ],
            "text/html": [
              "\n",
              "  <div id=\"df-801f0b77-27e3-4093-8d39-0ed4e1b18d54\" class=\"colab-df-container\">\n",
              "    <div>\n",
              "<style scoped>\n",
              "    .dataframe tbody tr th:only-of-type {\n",
              "        vertical-align: middle;\n",
              "    }\n",
              "\n",
              "    .dataframe tbody tr th {\n",
              "        vertical-align: top;\n",
              "    }\n",
              "\n",
              "    .dataframe thead th {\n",
              "        text-align: right;\n",
              "    }\n",
              "</style>\n",
              "<table border=\"1\" class=\"dataframe\">\n",
              "  <thead>\n",
              "    <tr style=\"text-align: right;\">\n",
              "      <th></th>\n",
              "      <th>example</th>\n",
              "      <th>label</th>\n",
              "      <th>index</th>\n",
              "    </tr>\n",
              "  </thead>\n",
              "  <tbody>\n",
              "    <tr>\n",
              "      <th>36389</th>\n",
              "      <td>the reason is primarily historic: before 1990 ...</td>\n",
              "      <td>1</td>\n",
              "      <td>36389</td>\n",
              "    </tr>\n",
              "    <tr>\n",
              "      <th>5119</th>\n",
              "      <td>the hilltop altar is located on the north side...</td>\n",
              "      <td>0</td>\n",
              "      <td>5119</td>\n",
              "    </tr>\n",
              "    <tr>\n",
              "      <th>22206</th>\n",
              "      <td>the new york times is third in national circul...</td>\n",
              "      <td>0</td>\n",
              "      <td>22206</td>\n",
              "    </tr>\n",
              "    <tr>\n",
              "      <th>33079</th>\n",
              "      <td>the four noble truths (pali: cattri ariyasaccn...</td>\n",
              "      <td>0</td>\n",
              "      <td>33079</td>\n",
              "    </tr>\n",
              "    <tr>\n",
              "      <th>2656</th>\n",
              "      <td>the concept behind the set ranks being applied...</td>\n",
              "      <td>0</td>\n",
              "      <td>2656</td>\n",
              "    </tr>\n",
              "  </tbody>\n",
              "</table>\n",
              "</div>\n",
              "    <div class=\"colab-df-buttons\">\n",
              "\n",
              "  <div class=\"colab-df-container\">\n",
              "    <button class=\"colab-df-convert\" onclick=\"convertToInteractive('df-801f0b77-27e3-4093-8d39-0ed4e1b18d54')\"\n",
              "            title=\"Convert this dataframe to an interactive table.\"\n",
              "            style=\"display:none;\">\n",
              "\n",
              "  <svg xmlns=\"http://www.w3.org/2000/svg\" height=\"24px\" viewBox=\"0 -960 960 960\">\n",
              "    <path d=\"M120-120v-720h720v720H120Zm60-500h600v-160H180v160Zm220 220h160v-160H400v160Zm0 220h160v-160H400v160ZM180-400h160v-160H180v160Zm440 0h160v-160H620v160ZM180-180h160v-160H180v160Zm440 0h160v-160H620v160Z\"/>\n",
              "  </svg>\n",
              "    </button>\n",
              "\n",
              "  <style>\n",
              "    .colab-df-container {\n",
              "      display:flex;\n",
              "      gap: 12px;\n",
              "    }\n",
              "\n",
              "    .colab-df-convert {\n",
              "      background-color: #E8F0FE;\n",
              "      border: none;\n",
              "      border-radius: 50%;\n",
              "      cursor: pointer;\n",
              "      display: none;\n",
              "      fill: #1967D2;\n",
              "      height: 32px;\n",
              "      padding: 0 0 0 0;\n",
              "      width: 32px;\n",
              "    }\n",
              "\n",
              "    .colab-df-convert:hover {\n",
              "      background-color: #E2EBFA;\n",
              "      box-shadow: 0px 1px 2px rgba(60, 64, 67, 0.3), 0px 1px 3px 1px rgba(60, 64, 67, 0.15);\n",
              "      fill: #174EA6;\n",
              "    }\n",
              "\n",
              "    .colab-df-buttons div {\n",
              "      margin-bottom: 4px;\n",
              "    }\n",
              "\n",
              "    [theme=dark] .colab-df-convert {\n",
              "      background-color: #3B4455;\n",
              "      fill: #D2E3FC;\n",
              "    }\n",
              "\n",
              "    [theme=dark] .colab-df-convert:hover {\n",
              "      background-color: #434B5C;\n",
              "      box-shadow: 0px 1px 3px 1px rgba(0, 0, 0, 0.15);\n",
              "      filter: drop-shadow(0px 1px 2px rgba(0, 0, 0, 0.3));\n",
              "      fill: #FFFFFF;\n",
              "    }\n",
              "  </style>\n",
              "\n",
              "    <script>\n",
              "      const buttonEl =\n",
              "        document.querySelector('#df-801f0b77-27e3-4093-8d39-0ed4e1b18d54 button.colab-df-convert');\n",
              "      buttonEl.style.display =\n",
              "        google.colab.kernel.accessAllowed ? 'block' : 'none';\n",
              "\n",
              "      async function convertToInteractive(key) {\n",
              "        const element = document.querySelector('#df-801f0b77-27e3-4093-8d39-0ed4e1b18d54');\n",
              "        const dataTable =\n",
              "          await google.colab.kernel.invokeFunction('convertToInteractive',\n",
              "                                                    [key], {});\n",
              "        if (!dataTable) return;\n",
              "\n",
              "        const docLinkHtml = 'Like what you see? Visit the ' +\n",
              "          '<a target=\"_blank\" href=https://colab.research.google.com/notebooks/data_table.ipynb>data table notebook</a>'\n",
              "          + ' to learn more about interactive tables.';\n",
              "        element.innerHTML = '';\n",
              "        dataTable['output_type'] = 'display_data';\n",
              "        await google.colab.output.renderOutput(dataTable, element);\n",
              "        const docLink = document.createElement('div');\n",
              "        docLink.innerHTML = docLinkHtml;\n",
              "        element.appendChild(docLink);\n",
              "      }\n",
              "    </script>\n",
              "  </div>\n",
              "\n",
              "\n",
              "<div id=\"df-c36329ce-0aa9-4431-8e32-2cac5526dcbd\">\n",
              "  <button class=\"colab-df-quickchart\" onclick=\"quickchart('df-c36329ce-0aa9-4431-8e32-2cac5526dcbd')\"\n",
              "            title=\"Suggest charts\"\n",
              "            style=\"display:none;\">\n",
              "\n",
              "<svg xmlns=\"http://www.w3.org/2000/svg\" height=\"24px\"viewBox=\"0 0 24 24\"\n",
              "     width=\"24px\">\n",
              "    <g>\n",
              "        <path d=\"M19 3H5c-1.1 0-2 .9-2 2v14c0 1.1.9 2 2 2h14c1.1 0 2-.9 2-2V5c0-1.1-.9-2-2-2zM9 17H7v-7h2v7zm4 0h-2V7h2v10zm4 0h-2v-4h2v4z\"/>\n",
              "    </g>\n",
              "</svg>\n",
              "  </button>\n",
              "\n",
              "<style>\n",
              "  .colab-df-quickchart {\n",
              "      --bg-color: #E8F0FE;\n",
              "      --fill-color: #1967D2;\n",
              "      --hover-bg-color: #E2EBFA;\n",
              "      --hover-fill-color: #174EA6;\n",
              "      --disabled-fill-color: #AAA;\n",
              "      --disabled-bg-color: #DDD;\n",
              "  }\n",
              "\n",
              "  [theme=dark] .colab-df-quickchart {\n",
              "      --bg-color: #3B4455;\n",
              "      --fill-color: #D2E3FC;\n",
              "      --hover-bg-color: #434B5C;\n",
              "      --hover-fill-color: #FFFFFF;\n",
              "      --disabled-bg-color: #3B4455;\n",
              "      --disabled-fill-color: #666;\n",
              "  }\n",
              "\n",
              "  .colab-df-quickchart {\n",
              "    background-color: var(--bg-color);\n",
              "    border: none;\n",
              "    border-radius: 50%;\n",
              "    cursor: pointer;\n",
              "    display: none;\n",
              "    fill: var(--fill-color);\n",
              "    height: 32px;\n",
              "    padding: 0;\n",
              "    width: 32px;\n",
              "  }\n",
              "\n",
              "  .colab-df-quickchart:hover {\n",
              "    background-color: var(--hover-bg-color);\n",
              "    box-shadow: 0 1px 2px rgba(60, 64, 67, 0.3), 0 1px 3px 1px rgba(60, 64, 67, 0.15);\n",
              "    fill: var(--button-hover-fill-color);\n",
              "  }\n",
              "\n",
              "  .colab-df-quickchart-complete:disabled,\n",
              "  .colab-df-quickchart-complete:disabled:hover {\n",
              "    background-color: var(--disabled-bg-color);\n",
              "    fill: var(--disabled-fill-color);\n",
              "    box-shadow: none;\n",
              "  }\n",
              "\n",
              "  .colab-df-spinner {\n",
              "    border: 2px solid var(--fill-color);\n",
              "    border-color: transparent;\n",
              "    border-bottom-color: var(--fill-color);\n",
              "    animation:\n",
              "      spin 1s steps(1) infinite;\n",
              "  }\n",
              "\n",
              "  @keyframes spin {\n",
              "    0% {\n",
              "      border-color: transparent;\n",
              "      border-bottom-color: var(--fill-color);\n",
              "      border-left-color: var(--fill-color);\n",
              "    }\n",
              "    20% {\n",
              "      border-color: transparent;\n",
              "      border-left-color: var(--fill-color);\n",
              "      border-top-color: var(--fill-color);\n",
              "    }\n",
              "    30% {\n",
              "      border-color: transparent;\n",
              "      border-left-color: var(--fill-color);\n",
              "      border-top-color: var(--fill-color);\n",
              "      border-right-color: var(--fill-color);\n",
              "    }\n",
              "    40% {\n",
              "      border-color: transparent;\n",
              "      border-right-color: var(--fill-color);\n",
              "      border-top-color: var(--fill-color);\n",
              "    }\n",
              "    60% {\n",
              "      border-color: transparent;\n",
              "      border-right-color: var(--fill-color);\n",
              "    }\n",
              "    80% {\n",
              "      border-color: transparent;\n",
              "      border-right-color: var(--fill-color);\n",
              "      border-bottom-color: var(--fill-color);\n",
              "    }\n",
              "    90% {\n",
              "      border-color: transparent;\n",
              "      border-bottom-color: var(--fill-color);\n",
              "    }\n",
              "  }\n",
              "</style>\n",
              "\n",
              "  <script>\n",
              "    async function quickchart(key) {\n",
              "      const quickchartButtonEl =\n",
              "        document.querySelector('#' + key + ' button');\n",
              "      quickchartButtonEl.disabled = true;  // To prevent multiple clicks.\n",
              "      quickchartButtonEl.classList.add('colab-df-spinner');\n",
              "      try {\n",
              "        const charts = await google.colab.kernel.invokeFunction(\n",
              "            'suggestCharts', [key], {});\n",
              "      } catch (error) {\n",
              "        console.error('Error during call to suggestCharts:', error);\n",
              "      }\n",
              "      quickchartButtonEl.classList.remove('colab-df-spinner');\n",
              "      quickchartButtonEl.classList.add('colab-df-quickchart-complete');\n",
              "    }\n",
              "    (() => {\n",
              "      let quickchartButtonEl =\n",
              "        document.querySelector('#df-c36329ce-0aa9-4431-8e32-2cac5526dcbd button');\n",
              "      quickchartButtonEl.style.display =\n",
              "        google.colab.kernel.accessAllowed ? 'block' : 'none';\n",
              "    })();\n",
              "  </script>\n",
              "</div>\n",
              "\n",
              "    </div>\n",
              "  </div>\n"
            ],
            "application/vnd.google.colaboratory.intrinsic+json": {
              "type": "dataframe",
              "summary": "{\n  \"name\": \"bias_unbias_test\",\n  \"rows\": 5,\n  \"fields\": [\n    {\n      \"column\": \"example\",\n      \"properties\": {\n        \"dtype\": \"string\",\n        \"num_unique_values\": 5,\n        \"samples\": [\n          \"the hilltop altar is located on the north side of the cemetery and bears the latin inscription \\\"in sacerdotum memoriam\\\" from its location in the west hills, mount calvary has views of portland and the surrounding mountains in the cascade range, as well as the columbia river.\",\n          \"the concept behind the set ranks being applied to all groups was to make a system that was easy to remember and navigate, a task which most say he succeeded in .\",\n          \"the new york times is third in national circulation, after usa today and the wall street journal.\"\n        ],\n        \"semantic_type\": \"\",\n        \"description\": \"\"\n      }\n    },\n    {\n      \"column\": \"label\",\n      \"properties\": {\n        \"dtype\": \"number\",\n        \"std\": 0,\n        \"min\": 0,\n        \"max\": 1,\n        \"num_unique_values\": 2,\n        \"samples\": [\n          0,\n          1\n        ],\n        \"semantic_type\": \"\",\n        \"description\": \"\"\n      }\n    },\n    {\n      \"column\": \"index\",\n      \"properties\": {\n        \"dtype\": \"number\",\n        \"std\": 15546,\n        \"min\": 2656,\n        \"max\": 36389,\n        \"num_unique_values\": 5,\n        \"samples\": [\n          5119,\n          2656\n        ],\n        \"semantic_type\": \"\",\n        \"description\": \"\"\n      }\n    }\n  ]\n}"
            }
          },
          "metadata": {},
          "execution_count": 5
        }
      ],
      "source": [
        "#Create two data sets, one with df_inputs['src_raw'] another with df_inputs['tgt_raw']\n",
        "df_src = bias_test_full['src_raw']\n",
        "df_tgt = bias_test_full['tgt_raw']\n",
        "\n",
        "#rename df_tgt to 'example'\n",
        "df_tgt = df_tgt.rename('example') # Changed 'columns' to 'name' for Series\n",
        "#create a variable df_tgt['label'] with value 0\n",
        "df_tgt = df_tgt.to_frame() # Convert Series to DataFrame to add a new column\n",
        "df_tgt['label'] = 0\n",
        "#rename df_src to 'example'\n",
        "df_src = df_src.rename('example') # Changed 'columns' to 'name' for Series\n",
        "#create a variable df_src['label'] with value 1\n",
        "df_src = df_src.to_frame() # Convert Series to DataFrame to add a new column\n",
        "df_src['label'] = 1\n",
        "# Concatenate df_src and df_tgt to have a larger data set that we will shuffle\n",
        "# This data set bias_unbias will have both the positive and negative labels\n",
        "bias_unbias_test = pd.concat([df_src, df_tgt])\n",
        "# Shuffle the data set. This is crucial to ensure there is a mix of bias and unbias\n",
        "bias_unbias_test = bias_unbias_test.sample(frac=1).reset_index(drop=True)\n",
        "\n",
        "############################only code to implement for neutralization ####\n",
        "#Only get the records with a label of 1\n",
        "#bias_unbias_test = bias_unbias_test[bias_unbias_test['label'] == 1]\n",
        "###############################\n",
        "\n",
        "# Print the number of rows in the DataFrame\n",
        "print(f\"Number of rows in DataFrame: {len(bias_unbias_test)}\")\n",
        "\n",
        "# Print the number of columns in the DataFrame\n",
        "print(f\"Number of columns in DataFrame: {len(bias_unbias_test.columns)}\")\n",
        "\n",
        "# Print the counts of the label column\n",
        "print(bias_unbias_test['label'].value_counts())\n",
        "\n",
        "#create a variable that simply counts the records, like an index\n",
        "#This will be used to purge the records in sample below\n",
        "bias_unbias_test['index'] = bias_unbias_test.index\n",
        "\n",
        "#Isolate a sample of rows that will be used to finetune the LLM ie shots\n",
        "sample_bias_unb = bias_unbias_test.sample(10)\n",
        "sample_bias_unb = sample_bias_unb.to_csv('bias_unbias_sample.csv', index=False)\n",
        "bias_unbias_test.sample(5)"
      ]
    },
    {
      "cell_type": "markdown",
      "source": [
        "Below are text sequences that could be used for prompting in the Llama 3.2 model"
      ],
      "metadata": {
        "id": "8zWg2NAtMO8T"
      }
    },
    {
      "cell_type": "code",
      "source": [
        "sample_bias_unb = pd.read_csv(\"/content/bias_unbias_sample.csv\")\n",
        "sample_bias_unb"
      ],
      "metadata": {
        "id": "Z2iwht2YKRGS",
        "outputId": "42359f97-9dc2-43eb-ce59-3670c3485410",
        "colab": {
          "base_uri": "https://localhost:8080/",
          "height": 363
        }
      },
      "execution_count": null,
      "outputs": [
        {
          "output_type": "execute_result",
          "data": {
            "text/plain": [
              "                                             example  label  index\n",
              "0  kemp first came into the public's limelight af...      1  42806\n",
              "1  criticism of facebook's motives and violation ...      1  10225\n",
              "2  in 1812, with the new commander manuel belgran...      0  25281\n",
              "3  at least in some countries, communists have be...      0  33206\n",
              "4  the first record of the concept of the vicar o...      0   7608\n",
              "5  the team won 9 out of their first 12 games bef...      0  20287\n",
              "6  he was a recipient of the knight's cross of th...      0  47734\n",
              "7  parameters, in the plural form, has recently b...      1  18685\n",
              "8  the book follows them from their lessons in th...      0  26358\n",
              "9  hilary du pr was born in woking, surrey, the e...      1  35787"
            ],
            "text/html": [
              "\n",
              "  <div id=\"df-c644486f-7c7e-4683-a94c-65786ab97413\" class=\"colab-df-container\">\n",
              "    <div>\n",
              "<style scoped>\n",
              "    .dataframe tbody tr th:only-of-type {\n",
              "        vertical-align: middle;\n",
              "    }\n",
              "\n",
              "    .dataframe tbody tr th {\n",
              "        vertical-align: top;\n",
              "    }\n",
              "\n",
              "    .dataframe thead th {\n",
              "        text-align: right;\n",
              "    }\n",
              "</style>\n",
              "<table border=\"1\" class=\"dataframe\">\n",
              "  <thead>\n",
              "    <tr style=\"text-align: right;\">\n",
              "      <th></th>\n",
              "      <th>example</th>\n",
              "      <th>label</th>\n",
              "      <th>index</th>\n",
              "    </tr>\n",
              "  </thead>\n",
              "  <tbody>\n",
              "    <tr>\n",
              "      <th>0</th>\n",
              "      <td>kemp first came into the public's limelight af...</td>\n",
              "      <td>1</td>\n",
              "      <td>42806</td>\n",
              "    </tr>\n",
              "    <tr>\n",
              "      <th>1</th>\n",
              "      <td>criticism of facebook's motives and violation ...</td>\n",
              "      <td>1</td>\n",
              "      <td>10225</td>\n",
              "    </tr>\n",
              "    <tr>\n",
              "      <th>2</th>\n",
              "      <td>in 1812, with the new commander manuel belgran...</td>\n",
              "      <td>0</td>\n",
              "      <td>25281</td>\n",
              "    </tr>\n",
              "    <tr>\n",
              "      <th>3</th>\n",
              "      <td>at least in some countries, communists have be...</td>\n",
              "      <td>0</td>\n",
              "      <td>33206</td>\n",
              "    </tr>\n",
              "    <tr>\n",
              "      <th>4</th>\n",
              "      <td>the first record of the concept of the vicar o...</td>\n",
              "      <td>0</td>\n",
              "      <td>7608</td>\n",
              "    </tr>\n",
              "    <tr>\n",
              "      <th>5</th>\n",
              "      <td>the team won 9 out of their first 12 games bef...</td>\n",
              "      <td>0</td>\n",
              "      <td>20287</td>\n",
              "    </tr>\n",
              "    <tr>\n",
              "      <th>6</th>\n",
              "      <td>he was a recipient of the knight's cross of th...</td>\n",
              "      <td>0</td>\n",
              "      <td>47734</td>\n",
              "    </tr>\n",
              "    <tr>\n",
              "      <th>7</th>\n",
              "      <td>parameters, in the plural form, has recently b...</td>\n",
              "      <td>1</td>\n",
              "      <td>18685</td>\n",
              "    </tr>\n",
              "    <tr>\n",
              "      <th>8</th>\n",
              "      <td>the book follows them from their lessons in th...</td>\n",
              "      <td>0</td>\n",
              "      <td>26358</td>\n",
              "    </tr>\n",
              "    <tr>\n",
              "      <th>9</th>\n",
              "      <td>hilary du pr was born in woking, surrey, the e...</td>\n",
              "      <td>1</td>\n",
              "      <td>35787</td>\n",
              "    </tr>\n",
              "  </tbody>\n",
              "</table>\n",
              "</div>\n",
              "    <div class=\"colab-df-buttons\">\n",
              "\n",
              "  <div class=\"colab-df-container\">\n",
              "    <button class=\"colab-df-convert\" onclick=\"convertToInteractive('df-c644486f-7c7e-4683-a94c-65786ab97413')\"\n",
              "            title=\"Convert this dataframe to an interactive table.\"\n",
              "            style=\"display:none;\">\n",
              "\n",
              "  <svg xmlns=\"http://www.w3.org/2000/svg\" height=\"24px\" viewBox=\"0 -960 960 960\">\n",
              "    <path d=\"M120-120v-720h720v720H120Zm60-500h600v-160H180v160Zm220 220h160v-160H400v160Zm0 220h160v-160H400v160ZM180-400h160v-160H180v160Zm440 0h160v-160H620v160ZM180-180h160v-160H180v160Zm440 0h160v-160H620v160Z\"/>\n",
              "  </svg>\n",
              "    </button>\n",
              "\n",
              "  <style>\n",
              "    .colab-df-container {\n",
              "      display:flex;\n",
              "      gap: 12px;\n",
              "    }\n",
              "\n",
              "    .colab-df-convert {\n",
              "      background-color: #E8F0FE;\n",
              "      border: none;\n",
              "      border-radius: 50%;\n",
              "      cursor: pointer;\n",
              "      display: none;\n",
              "      fill: #1967D2;\n",
              "      height: 32px;\n",
              "      padding: 0 0 0 0;\n",
              "      width: 32px;\n",
              "    }\n",
              "\n",
              "    .colab-df-convert:hover {\n",
              "      background-color: #E2EBFA;\n",
              "      box-shadow: 0px 1px 2px rgba(60, 64, 67, 0.3), 0px 1px 3px 1px rgba(60, 64, 67, 0.15);\n",
              "      fill: #174EA6;\n",
              "    }\n",
              "\n",
              "    .colab-df-buttons div {\n",
              "      margin-bottom: 4px;\n",
              "    }\n",
              "\n",
              "    [theme=dark] .colab-df-convert {\n",
              "      background-color: #3B4455;\n",
              "      fill: #D2E3FC;\n",
              "    }\n",
              "\n",
              "    [theme=dark] .colab-df-convert:hover {\n",
              "      background-color: #434B5C;\n",
              "      box-shadow: 0px 1px 3px 1px rgba(0, 0, 0, 0.15);\n",
              "      filter: drop-shadow(0px 1px 2px rgba(0, 0, 0, 0.3));\n",
              "      fill: #FFFFFF;\n",
              "    }\n",
              "  </style>\n",
              "\n",
              "    <script>\n",
              "      const buttonEl =\n",
              "        document.querySelector('#df-c644486f-7c7e-4683-a94c-65786ab97413 button.colab-df-convert');\n",
              "      buttonEl.style.display =\n",
              "        google.colab.kernel.accessAllowed ? 'block' : 'none';\n",
              "\n",
              "      async function convertToInteractive(key) {\n",
              "        const element = document.querySelector('#df-c644486f-7c7e-4683-a94c-65786ab97413');\n",
              "        const dataTable =\n",
              "          await google.colab.kernel.invokeFunction('convertToInteractive',\n",
              "                                                    [key], {});\n",
              "        if (!dataTable) return;\n",
              "\n",
              "        const docLinkHtml = 'Like what you see? Visit the ' +\n",
              "          '<a target=\"_blank\" href=https://colab.research.google.com/notebooks/data_table.ipynb>data table notebook</a>'\n",
              "          + ' to learn more about interactive tables.';\n",
              "        element.innerHTML = '';\n",
              "        dataTable['output_type'] = 'display_data';\n",
              "        await google.colab.output.renderOutput(dataTable, element);\n",
              "        const docLink = document.createElement('div');\n",
              "        docLink.innerHTML = docLinkHtml;\n",
              "        element.appendChild(docLink);\n",
              "      }\n",
              "    </script>\n",
              "  </div>\n",
              "\n",
              "\n",
              "<div id=\"df-d5c05714-25f7-48fb-a4e4-5af3b0ec6f35\">\n",
              "  <button class=\"colab-df-quickchart\" onclick=\"quickchart('df-d5c05714-25f7-48fb-a4e4-5af3b0ec6f35')\"\n",
              "            title=\"Suggest charts\"\n",
              "            style=\"display:none;\">\n",
              "\n",
              "<svg xmlns=\"http://www.w3.org/2000/svg\" height=\"24px\"viewBox=\"0 0 24 24\"\n",
              "     width=\"24px\">\n",
              "    <g>\n",
              "        <path d=\"M19 3H5c-1.1 0-2 .9-2 2v14c0 1.1.9 2 2 2h14c1.1 0 2-.9 2-2V5c0-1.1-.9-2-2-2zM9 17H7v-7h2v7zm4 0h-2V7h2v10zm4 0h-2v-4h2v4z\"/>\n",
              "    </g>\n",
              "</svg>\n",
              "  </button>\n",
              "\n",
              "<style>\n",
              "  .colab-df-quickchart {\n",
              "      --bg-color: #E8F0FE;\n",
              "      --fill-color: #1967D2;\n",
              "      --hover-bg-color: #E2EBFA;\n",
              "      --hover-fill-color: #174EA6;\n",
              "      --disabled-fill-color: #AAA;\n",
              "      --disabled-bg-color: #DDD;\n",
              "  }\n",
              "\n",
              "  [theme=dark] .colab-df-quickchart {\n",
              "      --bg-color: #3B4455;\n",
              "      --fill-color: #D2E3FC;\n",
              "      --hover-bg-color: #434B5C;\n",
              "      --hover-fill-color: #FFFFFF;\n",
              "      --disabled-bg-color: #3B4455;\n",
              "      --disabled-fill-color: #666;\n",
              "  }\n",
              "\n",
              "  .colab-df-quickchart {\n",
              "    background-color: var(--bg-color);\n",
              "    border: none;\n",
              "    border-radius: 50%;\n",
              "    cursor: pointer;\n",
              "    display: none;\n",
              "    fill: var(--fill-color);\n",
              "    height: 32px;\n",
              "    padding: 0;\n",
              "    width: 32px;\n",
              "  }\n",
              "\n",
              "  .colab-df-quickchart:hover {\n",
              "    background-color: var(--hover-bg-color);\n",
              "    box-shadow: 0 1px 2px rgba(60, 64, 67, 0.3), 0 1px 3px 1px rgba(60, 64, 67, 0.15);\n",
              "    fill: var(--button-hover-fill-color);\n",
              "  }\n",
              "\n",
              "  .colab-df-quickchart-complete:disabled,\n",
              "  .colab-df-quickchart-complete:disabled:hover {\n",
              "    background-color: var(--disabled-bg-color);\n",
              "    fill: var(--disabled-fill-color);\n",
              "    box-shadow: none;\n",
              "  }\n",
              "\n",
              "  .colab-df-spinner {\n",
              "    border: 2px solid var(--fill-color);\n",
              "    border-color: transparent;\n",
              "    border-bottom-color: var(--fill-color);\n",
              "    animation:\n",
              "      spin 1s steps(1) infinite;\n",
              "  }\n",
              "\n",
              "  @keyframes spin {\n",
              "    0% {\n",
              "      border-color: transparent;\n",
              "      border-bottom-color: var(--fill-color);\n",
              "      border-left-color: var(--fill-color);\n",
              "    }\n",
              "    20% {\n",
              "      border-color: transparent;\n",
              "      border-left-color: var(--fill-color);\n",
              "      border-top-color: var(--fill-color);\n",
              "    }\n",
              "    30% {\n",
              "      border-color: transparent;\n",
              "      border-left-color: var(--fill-color);\n",
              "      border-top-color: var(--fill-color);\n",
              "      border-right-color: var(--fill-color);\n",
              "    }\n",
              "    40% {\n",
              "      border-color: transparent;\n",
              "      border-right-color: var(--fill-color);\n",
              "      border-top-color: var(--fill-color);\n",
              "    }\n",
              "    60% {\n",
              "      border-color: transparent;\n",
              "      border-right-color: var(--fill-color);\n",
              "    }\n",
              "    80% {\n",
              "      border-color: transparent;\n",
              "      border-right-color: var(--fill-color);\n",
              "      border-bottom-color: var(--fill-color);\n",
              "    }\n",
              "    90% {\n",
              "      border-color: transparent;\n",
              "      border-bottom-color: var(--fill-color);\n",
              "    }\n",
              "  }\n",
              "</style>\n",
              "\n",
              "  <script>\n",
              "    async function quickchart(key) {\n",
              "      const quickchartButtonEl =\n",
              "        document.querySelector('#' + key + ' button');\n",
              "      quickchartButtonEl.disabled = true;  // To prevent multiple clicks.\n",
              "      quickchartButtonEl.classList.add('colab-df-spinner');\n",
              "      try {\n",
              "        const charts = await google.colab.kernel.invokeFunction(\n",
              "            'suggestCharts', [key], {});\n",
              "      } catch (error) {\n",
              "        console.error('Error during call to suggestCharts:', error);\n",
              "      }\n",
              "      quickchartButtonEl.classList.remove('colab-df-spinner');\n",
              "      quickchartButtonEl.classList.add('colab-df-quickchart-complete');\n",
              "    }\n",
              "    (() => {\n",
              "      let quickchartButtonEl =\n",
              "        document.querySelector('#df-d5c05714-25f7-48fb-a4e4-5af3b0ec6f35 button');\n",
              "      quickchartButtonEl.style.display =\n",
              "        google.colab.kernel.accessAllowed ? 'block' : 'none';\n",
              "    })();\n",
              "  </script>\n",
              "</div>\n",
              "\n",
              "  <div id=\"id_32da4ddc-590c-47ad-897b-8ef35b4b03ac\">\n",
              "    <style>\n",
              "      .colab-df-generate {\n",
              "        background-color: #E8F0FE;\n",
              "        border: none;\n",
              "        border-radius: 50%;\n",
              "        cursor: pointer;\n",
              "        display: none;\n",
              "        fill: #1967D2;\n",
              "        height: 32px;\n",
              "        padding: 0 0 0 0;\n",
              "        width: 32px;\n",
              "      }\n",
              "\n",
              "      .colab-df-generate:hover {\n",
              "        background-color: #E2EBFA;\n",
              "        box-shadow: 0px 1px 2px rgba(60, 64, 67, 0.3), 0px 1px 3px 1px rgba(60, 64, 67, 0.15);\n",
              "        fill: #174EA6;\n",
              "      }\n",
              "\n",
              "      [theme=dark] .colab-df-generate {\n",
              "        background-color: #3B4455;\n",
              "        fill: #D2E3FC;\n",
              "      }\n",
              "\n",
              "      [theme=dark] .colab-df-generate:hover {\n",
              "        background-color: #434B5C;\n",
              "        box-shadow: 0px 1px 3px 1px rgba(0, 0, 0, 0.15);\n",
              "        filter: drop-shadow(0px 1px 2px rgba(0, 0, 0, 0.3));\n",
              "        fill: #FFFFFF;\n",
              "      }\n",
              "    </style>\n",
              "    <button class=\"colab-df-generate\" onclick=\"generateWithVariable('sample_bias_unb')\"\n",
              "            title=\"Generate code using this dataframe.\"\n",
              "            style=\"display:none;\">\n",
              "\n",
              "  <svg xmlns=\"http://www.w3.org/2000/svg\" height=\"24px\"viewBox=\"0 0 24 24\"\n",
              "       width=\"24px\">\n",
              "    <path d=\"M7,19H8.4L18.45,9,17,7.55,7,17.6ZM5,21V16.75L18.45,3.32a2,2,0,0,1,2.83,0l1.4,1.43a1.91,1.91,0,0,1,.58,1.4,1.91,1.91,0,0,1-.58,1.4L9.25,21ZM18.45,9,17,7.55Zm-12,3A5.31,5.31,0,0,0,4.9,8.1,5.31,5.31,0,0,0,1,6.5,5.31,5.31,0,0,0,4.9,4.9,5.31,5.31,0,0,0,6.5,1,5.31,5.31,0,0,0,8.1,4.9,5.31,5.31,0,0,0,12,6.5,5.46,5.46,0,0,0,6.5,12Z\"/>\n",
              "  </svg>\n",
              "    </button>\n",
              "    <script>\n",
              "      (() => {\n",
              "      const buttonEl =\n",
              "        document.querySelector('#id_32da4ddc-590c-47ad-897b-8ef35b4b03ac button.colab-df-generate');\n",
              "      buttonEl.style.display =\n",
              "        google.colab.kernel.accessAllowed ? 'block' : 'none';\n",
              "\n",
              "      buttonEl.onclick = () => {\n",
              "        google.colab.notebook.generateWithVariable('sample_bias_unb');\n",
              "      }\n",
              "      })();\n",
              "    </script>\n",
              "  </div>\n",
              "\n",
              "    </div>\n",
              "  </div>\n"
            ],
            "application/vnd.google.colaboratory.intrinsic+json": {
              "type": "dataframe",
              "variable_name": "sample_bias_unb",
              "summary": "{\n  \"name\": \"sample_bias_unb\",\n  \"rows\": 10,\n  \"fields\": [\n    {\n      \"column\": \"example\",\n      \"properties\": {\n        \"dtype\": \"string\",\n        \"num_unique_values\": 10,\n        \"samples\": [\n          \"the book follows them from their lessons in the space academy with a blind (but not unseeing) commandant to lessons in using a powered space suit and through their eventual deployment across the solar system .\",\n          \"criticism of facebook's motives and violation of net neutrality principles\",\n          \"the team won 9 out of their first 12 games before christmas 2012, sitting top of the league going into the new year.\"\n        ],\n        \"semantic_type\": \"\",\n        \"description\": \"\"\n      }\n    },\n    {\n      \"column\": \"label\",\n      \"properties\": {\n        \"dtype\": \"number\",\n        \"std\": 0,\n        \"min\": 0,\n        \"max\": 1,\n        \"num_unique_values\": 2,\n        \"samples\": [\n          0,\n          1\n        ],\n        \"semantic_type\": \"\",\n        \"description\": \"\"\n      }\n    },\n    {\n      \"column\": \"index\",\n      \"properties\": {\n        \"dtype\": \"number\",\n        \"std\": 13208,\n        \"min\": 7608,\n        \"max\": 47734,\n        \"num_unique_values\": 10,\n        \"samples\": [\n          26358,\n          10225\n        ],\n        \"semantic_type\": \"\",\n        \"description\": \"\"\n      }\n    }\n  ]\n}"
            }
          },
          "metadata": {},
          "execution_count": 6
        }
      ]
    },
    {
      "cell_type": "code",
      "source": [
        "bias_unbias_test[bias_unbias_test['index'] == 37938]"
      ],
      "metadata": {
        "id": "hvcpMQwxSWxd",
        "outputId": "eb348900-fa63-4094-b784-8d84e2570951",
        "colab": {
          "base_uri": "https://localhost:8080/",
          "height": 81
        }
      },
      "execution_count": null,
      "outputs": [
        {
          "output_type": "execute_result",
          "data": {
            "text/plain": [
              "                                                 example  label  index\n",
              "37938  the africa group for justice and accountabilit...      0  37938"
            ],
            "text/html": [
              "\n",
              "  <div id=\"df-e9510721-cd05-4a40-80b9-cdaf70921e1e\" class=\"colab-df-container\">\n",
              "    <div>\n",
              "<style scoped>\n",
              "    .dataframe tbody tr th:only-of-type {\n",
              "        vertical-align: middle;\n",
              "    }\n",
              "\n",
              "    .dataframe tbody tr th {\n",
              "        vertical-align: top;\n",
              "    }\n",
              "\n",
              "    .dataframe thead th {\n",
              "        text-align: right;\n",
              "    }\n",
              "</style>\n",
              "<table border=\"1\" class=\"dataframe\">\n",
              "  <thead>\n",
              "    <tr style=\"text-align: right;\">\n",
              "      <th></th>\n",
              "      <th>example</th>\n",
              "      <th>label</th>\n",
              "      <th>index</th>\n",
              "    </tr>\n",
              "  </thead>\n",
              "  <tbody>\n",
              "    <tr>\n",
              "      <th>37938</th>\n",
              "      <td>the africa group for justice and accountabilit...</td>\n",
              "      <td>0</td>\n",
              "      <td>37938</td>\n",
              "    </tr>\n",
              "  </tbody>\n",
              "</table>\n",
              "</div>\n",
              "    <div class=\"colab-df-buttons\">\n",
              "\n",
              "  <div class=\"colab-df-container\">\n",
              "    <button class=\"colab-df-convert\" onclick=\"convertToInteractive('df-e9510721-cd05-4a40-80b9-cdaf70921e1e')\"\n",
              "            title=\"Convert this dataframe to an interactive table.\"\n",
              "            style=\"display:none;\">\n",
              "\n",
              "  <svg xmlns=\"http://www.w3.org/2000/svg\" height=\"24px\" viewBox=\"0 -960 960 960\">\n",
              "    <path d=\"M120-120v-720h720v720H120Zm60-500h600v-160H180v160Zm220 220h160v-160H400v160Zm0 220h160v-160H400v160ZM180-400h160v-160H180v160Zm440 0h160v-160H620v160ZM180-180h160v-160H180v160Zm440 0h160v-160H620v160Z\"/>\n",
              "  </svg>\n",
              "    </button>\n",
              "\n",
              "  <style>\n",
              "    .colab-df-container {\n",
              "      display:flex;\n",
              "      gap: 12px;\n",
              "    }\n",
              "\n",
              "    .colab-df-convert {\n",
              "      background-color: #E8F0FE;\n",
              "      border: none;\n",
              "      border-radius: 50%;\n",
              "      cursor: pointer;\n",
              "      display: none;\n",
              "      fill: #1967D2;\n",
              "      height: 32px;\n",
              "      padding: 0 0 0 0;\n",
              "      width: 32px;\n",
              "    }\n",
              "\n",
              "    .colab-df-convert:hover {\n",
              "      background-color: #E2EBFA;\n",
              "      box-shadow: 0px 1px 2px rgba(60, 64, 67, 0.3), 0px 1px 3px 1px rgba(60, 64, 67, 0.15);\n",
              "      fill: #174EA6;\n",
              "    }\n",
              "\n",
              "    .colab-df-buttons div {\n",
              "      margin-bottom: 4px;\n",
              "    }\n",
              "\n",
              "    [theme=dark] .colab-df-convert {\n",
              "      background-color: #3B4455;\n",
              "      fill: #D2E3FC;\n",
              "    }\n",
              "\n",
              "    [theme=dark] .colab-df-convert:hover {\n",
              "      background-color: #434B5C;\n",
              "      box-shadow: 0px 1px 3px 1px rgba(0, 0, 0, 0.15);\n",
              "      filter: drop-shadow(0px 1px 2px rgba(0, 0, 0, 0.3));\n",
              "      fill: #FFFFFF;\n",
              "    }\n",
              "  </style>\n",
              "\n",
              "    <script>\n",
              "      const buttonEl =\n",
              "        document.querySelector('#df-e9510721-cd05-4a40-80b9-cdaf70921e1e button.colab-df-convert');\n",
              "      buttonEl.style.display =\n",
              "        google.colab.kernel.accessAllowed ? 'block' : 'none';\n",
              "\n",
              "      async function convertToInteractive(key) {\n",
              "        const element = document.querySelector('#df-e9510721-cd05-4a40-80b9-cdaf70921e1e');\n",
              "        const dataTable =\n",
              "          await google.colab.kernel.invokeFunction('convertToInteractive',\n",
              "                                                    [key], {});\n",
              "        if (!dataTable) return;\n",
              "\n",
              "        const docLinkHtml = 'Like what you see? Visit the ' +\n",
              "          '<a target=\"_blank\" href=https://colab.research.google.com/notebooks/data_table.ipynb>data table notebook</a>'\n",
              "          + ' to learn more about interactive tables.';\n",
              "        element.innerHTML = '';\n",
              "        dataTable['output_type'] = 'display_data';\n",
              "        await google.colab.output.renderOutput(dataTable, element);\n",
              "        const docLink = document.createElement('div');\n",
              "        docLink.innerHTML = docLinkHtml;\n",
              "        element.appendChild(docLink);\n",
              "      }\n",
              "    </script>\n",
              "  </div>\n",
              "\n",
              "\n",
              "    </div>\n",
              "  </div>\n"
            ],
            "application/vnd.google.colaboratory.intrinsic+json": {
              "type": "dataframe",
              "summary": "{\n  \"name\": \"bias_unbias_test[bias_unbias_test['index'] == 37938]\",\n  \"rows\": 1,\n  \"fields\": [\n    {\n      \"column\": \"example\",\n      \"properties\": {\n        \"dtype\": \"string\",\n        \"num_unique_values\": 1,\n        \"samples\": [\n          \"the africa group for justice and accountability (agja) is an international, non-governmental group made up of public figures , academics, lawyers and human rights advocates .\"\n        ],\n        \"semantic_type\": \"\",\n        \"description\": \"\"\n      }\n    },\n    {\n      \"column\": \"label\",\n      \"properties\": {\n        \"dtype\": \"number\",\n        \"std\": null,\n        \"min\": 0,\n        \"max\": 0,\n        \"num_unique_values\": 1,\n        \"samples\": [\n          0\n        ],\n        \"semantic_type\": \"\",\n        \"description\": \"\"\n      }\n    },\n    {\n      \"column\": \"index\",\n      \"properties\": {\n        \"dtype\": \"number\",\n        \"std\": null,\n        \"min\": 37938,\n        \"max\": 37938,\n        \"num_unique_values\": 1,\n        \"samples\": [\n          37938\n        ],\n        \"semantic_type\": \"\",\n        \"description\": \"\"\n      }\n    }\n  ]\n}"
            }
          },
          "metadata": {},
          "execution_count": 7
        }
      ]
    },
    {
      "cell_type": "markdown",
      "source": [
        "## 1- Now remove the sample text from the other text. That will be used to build the promt.\n",
        "## These are the uncommon rows between the two sets"
      ],
      "metadata": {
        "id": "J0DWLXUyFvNe"
      }
    },
    {
      "cell_type": "code",
      "source": [
        "bias_unbias_test = bias_unbias_test[~bias_unbias_test['index'].isin(sample_bias_unb['index'])]\n",
        "bias_unbias_test.describe()"
      ],
      "metadata": {
        "id": "n4qy6Dl4aPJN",
        "outputId": "3b3474ea-bfeb-4d99-8dc7-68efa16ae4c0",
        "colab": {
          "base_uri": "https://localhost:8080/",
          "height": 300
        }
      },
      "execution_count": null,
      "outputs": [
        {
          "output_type": "execute_result",
          "data": {
            "text/plain": [
              "              label         index\n",
              "count  51322.000000  51322.000000\n",
              "mean       0.500019  25665.279393\n",
              "std        0.500005  14818.819345\n",
              "min        0.000000      0.000000\n",
              "25%        0.000000  12832.250000\n",
              "50%        1.000000  25665.500000\n",
              "75%        1.000000  38498.750000\n",
              "max        1.000000  51331.000000"
            ],
            "text/html": [
              "\n",
              "  <div id=\"df-421594c2-8508-47f6-b3dc-f4d938ff4d3d\" class=\"colab-df-container\">\n",
              "    <div>\n",
              "<style scoped>\n",
              "    .dataframe tbody tr th:only-of-type {\n",
              "        vertical-align: middle;\n",
              "    }\n",
              "\n",
              "    .dataframe tbody tr th {\n",
              "        vertical-align: top;\n",
              "    }\n",
              "\n",
              "    .dataframe thead th {\n",
              "        text-align: right;\n",
              "    }\n",
              "</style>\n",
              "<table border=\"1\" class=\"dataframe\">\n",
              "  <thead>\n",
              "    <tr style=\"text-align: right;\">\n",
              "      <th></th>\n",
              "      <th>label</th>\n",
              "      <th>index</th>\n",
              "    </tr>\n",
              "  </thead>\n",
              "  <tbody>\n",
              "    <tr>\n",
              "      <th>count</th>\n",
              "      <td>51322.000000</td>\n",
              "      <td>51322.000000</td>\n",
              "    </tr>\n",
              "    <tr>\n",
              "      <th>mean</th>\n",
              "      <td>0.500019</td>\n",
              "      <td>25665.279393</td>\n",
              "    </tr>\n",
              "    <tr>\n",
              "      <th>std</th>\n",
              "      <td>0.500005</td>\n",
              "      <td>14818.819345</td>\n",
              "    </tr>\n",
              "    <tr>\n",
              "      <th>min</th>\n",
              "      <td>0.000000</td>\n",
              "      <td>0.000000</td>\n",
              "    </tr>\n",
              "    <tr>\n",
              "      <th>25%</th>\n",
              "      <td>0.000000</td>\n",
              "      <td>12832.250000</td>\n",
              "    </tr>\n",
              "    <tr>\n",
              "      <th>50%</th>\n",
              "      <td>1.000000</td>\n",
              "      <td>25665.500000</td>\n",
              "    </tr>\n",
              "    <tr>\n",
              "      <th>75%</th>\n",
              "      <td>1.000000</td>\n",
              "      <td>38498.750000</td>\n",
              "    </tr>\n",
              "    <tr>\n",
              "      <th>max</th>\n",
              "      <td>1.000000</td>\n",
              "      <td>51331.000000</td>\n",
              "    </tr>\n",
              "  </tbody>\n",
              "</table>\n",
              "</div>\n",
              "    <div class=\"colab-df-buttons\">\n",
              "\n",
              "  <div class=\"colab-df-container\">\n",
              "    <button class=\"colab-df-convert\" onclick=\"convertToInteractive('df-421594c2-8508-47f6-b3dc-f4d938ff4d3d')\"\n",
              "            title=\"Convert this dataframe to an interactive table.\"\n",
              "            style=\"display:none;\">\n",
              "\n",
              "  <svg xmlns=\"http://www.w3.org/2000/svg\" height=\"24px\" viewBox=\"0 -960 960 960\">\n",
              "    <path d=\"M120-120v-720h720v720H120Zm60-500h600v-160H180v160Zm220 220h160v-160H400v160Zm0 220h160v-160H400v160ZM180-400h160v-160H180v160Zm440 0h160v-160H620v160ZM180-180h160v-160H180v160Zm440 0h160v-160H620v160Z\"/>\n",
              "  </svg>\n",
              "    </button>\n",
              "\n",
              "  <style>\n",
              "    .colab-df-container {\n",
              "      display:flex;\n",
              "      gap: 12px;\n",
              "    }\n",
              "\n",
              "    .colab-df-convert {\n",
              "      background-color: #E8F0FE;\n",
              "      border: none;\n",
              "      border-radius: 50%;\n",
              "      cursor: pointer;\n",
              "      display: none;\n",
              "      fill: #1967D2;\n",
              "      height: 32px;\n",
              "      padding: 0 0 0 0;\n",
              "      width: 32px;\n",
              "    }\n",
              "\n",
              "    .colab-df-convert:hover {\n",
              "      background-color: #E2EBFA;\n",
              "      box-shadow: 0px 1px 2px rgba(60, 64, 67, 0.3), 0px 1px 3px 1px rgba(60, 64, 67, 0.15);\n",
              "      fill: #174EA6;\n",
              "    }\n",
              "\n",
              "    .colab-df-buttons div {\n",
              "      margin-bottom: 4px;\n",
              "    }\n",
              "\n",
              "    [theme=dark] .colab-df-convert {\n",
              "      background-color: #3B4455;\n",
              "      fill: #D2E3FC;\n",
              "    }\n",
              "\n",
              "    [theme=dark] .colab-df-convert:hover {\n",
              "      background-color: #434B5C;\n",
              "      box-shadow: 0px 1px 3px 1px rgba(0, 0, 0, 0.15);\n",
              "      filter: drop-shadow(0px 1px 2px rgba(0, 0, 0, 0.3));\n",
              "      fill: #FFFFFF;\n",
              "    }\n",
              "  </style>\n",
              "\n",
              "    <script>\n",
              "      const buttonEl =\n",
              "        document.querySelector('#df-421594c2-8508-47f6-b3dc-f4d938ff4d3d button.colab-df-convert');\n",
              "      buttonEl.style.display =\n",
              "        google.colab.kernel.accessAllowed ? 'block' : 'none';\n",
              "\n",
              "      async function convertToInteractive(key) {\n",
              "        const element = document.querySelector('#df-421594c2-8508-47f6-b3dc-f4d938ff4d3d');\n",
              "        const dataTable =\n",
              "          await google.colab.kernel.invokeFunction('convertToInteractive',\n",
              "                                                    [key], {});\n",
              "        if (!dataTable) return;\n",
              "\n",
              "        const docLinkHtml = 'Like what you see? Visit the ' +\n",
              "          '<a target=\"_blank\" href=https://colab.research.google.com/notebooks/data_table.ipynb>data table notebook</a>'\n",
              "          + ' to learn more about interactive tables.';\n",
              "        element.innerHTML = '';\n",
              "        dataTable['output_type'] = 'display_data';\n",
              "        await google.colab.output.renderOutput(dataTable, element);\n",
              "        const docLink = document.createElement('div');\n",
              "        docLink.innerHTML = docLinkHtml;\n",
              "        element.appendChild(docLink);\n",
              "      }\n",
              "    </script>\n",
              "  </div>\n",
              "\n",
              "\n",
              "<div id=\"df-27c112e7-2ccf-4bcd-843f-2123143aa540\">\n",
              "  <button class=\"colab-df-quickchart\" onclick=\"quickchart('df-27c112e7-2ccf-4bcd-843f-2123143aa540')\"\n",
              "            title=\"Suggest charts\"\n",
              "            style=\"display:none;\">\n",
              "\n",
              "<svg xmlns=\"http://www.w3.org/2000/svg\" height=\"24px\"viewBox=\"0 0 24 24\"\n",
              "     width=\"24px\">\n",
              "    <g>\n",
              "        <path d=\"M19 3H5c-1.1 0-2 .9-2 2v14c0 1.1.9 2 2 2h14c1.1 0 2-.9 2-2V5c0-1.1-.9-2-2-2zM9 17H7v-7h2v7zm4 0h-2V7h2v10zm4 0h-2v-4h2v4z\"/>\n",
              "    </g>\n",
              "</svg>\n",
              "  </button>\n",
              "\n",
              "<style>\n",
              "  .colab-df-quickchart {\n",
              "      --bg-color: #E8F0FE;\n",
              "      --fill-color: #1967D2;\n",
              "      --hover-bg-color: #E2EBFA;\n",
              "      --hover-fill-color: #174EA6;\n",
              "      --disabled-fill-color: #AAA;\n",
              "      --disabled-bg-color: #DDD;\n",
              "  }\n",
              "\n",
              "  [theme=dark] .colab-df-quickchart {\n",
              "      --bg-color: #3B4455;\n",
              "      --fill-color: #D2E3FC;\n",
              "      --hover-bg-color: #434B5C;\n",
              "      --hover-fill-color: #FFFFFF;\n",
              "      --disabled-bg-color: #3B4455;\n",
              "      --disabled-fill-color: #666;\n",
              "  }\n",
              "\n",
              "  .colab-df-quickchart {\n",
              "    background-color: var(--bg-color);\n",
              "    border: none;\n",
              "    border-radius: 50%;\n",
              "    cursor: pointer;\n",
              "    display: none;\n",
              "    fill: var(--fill-color);\n",
              "    height: 32px;\n",
              "    padding: 0;\n",
              "    width: 32px;\n",
              "  }\n",
              "\n",
              "  .colab-df-quickchart:hover {\n",
              "    background-color: var(--hover-bg-color);\n",
              "    box-shadow: 0 1px 2px rgba(60, 64, 67, 0.3), 0 1px 3px 1px rgba(60, 64, 67, 0.15);\n",
              "    fill: var(--button-hover-fill-color);\n",
              "  }\n",
              "\n",
              "  .colab-df-quickchart-complete:disabled,\n",
              "  .colab-df-quickchart-complete:disabled:hover {\n",
              "    background-color: var(--disabled-bg-color);\n",
              "    fill: var(--disabled-fill-color);\n",
              "    box-shadow: none;\n",
              "  }\n",
              "\n",
              "  .colab-df-spinner {\n",
              "    border: 2px solid var(--fill-color);\n",
              "    border-color: transparent;\n",
              "    border-bottom-color: var(--fill-color);\n",
              "    animation:\n",
              "      spin 1s steps(1) infinite;\n",
              "  }\n",
              "\n",
              "  @keyframes spin {\n",
              "    0% {\n",
              "      border-color: transparent;\n",
              "      border-bottom-color: var(--fill-color);\n",
              "      border-left-color: var(--fill-color);\n",
              "    }\n",
              "    20% {\n",
              "      border-color: transparent;\n",
              "      border-left-color: var(--fill-color);\n",
              "      border-top-color: var(--fill-color);\n",
              "    }\n",
              "    30% {\n",
              "      border-color: transparent;\n",
              "      border-left-color: var(--fill-color);\n",
              "      border-top-color: var(--fill-color);\n",
              "      border-right-color: var(--fill-color);\n",
              "    }\n",
              "    40% {\n",
              "      border-color: transparent;\n",
              "      border-right-color: var(--fill-color);\n",
              "      border-top-color: var(--fill-color);\n",
              "    }\n",
              "    60% {\n",
              "      border-color: transparent;\n",
              "      border-right-color: var(--fill-color);\n",
              "    }\n",
              "    80% {\n",
              "      border-color: transparent;\n",
              "      border-right-color: var(--fill-color);\n",
              "      border-bottom-color: var(--fill-color);\n",
              "    }\n",
              "    90% {\n",
              "      border-color: transparent;\n",
              "      border-bottom-color: var(--fill-color);\n",
              "    }\n",
              "  }\n",
              "</style>\n",
              "\n",
              "  <script>\n",
              "    async function quickchart(key) {\n",
              "      const quickchartButtonEl =\n",
              "        document.querySelector('#' + key + ' button');\n",
              "      quickchartButtonEl.disabled = true;  // To prevent multiple clicks.\n",
              "      quickchartButtonEl.classList.add('colab-df-spinner');\n",
              "      try {\n",
              "        const charts = await google.colab.kernel.invokeFunction(\n",
              "            'suggestCharts', [key], {});\n",
              "      } catch (error) {\n",
              "        console.error('Error during call to suggestCharts:', error);\n",
              "      }\n",
              "      quickchartButtonEl.classList.remove('colab-df-spinner');\n",
              "      quickchartButtonEl.classList.add('colab-df-quickchart-complete');\n",
              "    }\n",
              "    (() => {\n",
              "      let quickchartButtonEl =\n",
              "        document.querySelector('#df-27c112e7-2ccf-4bcd-843f-2123143aa540 button');\n",
              "      quickchartButtonEl.style.display =\n",
              "        google.colab.kernel.accessAllowed ? 'block' : 'none';\n",
              "    })();\n",
              "  </script>\n",
              "</div>\n",
              "\n",
              "    </div>\n",
              "  </div>\n"
            ],
            "application/vnd.google.colaboratory.intrinsic+json": {
              "type": "dataframe",
              "summary": "{\n  \"name\": \"bias_unbias_test\",\n  \"rows\": 8,\n  \"fields\": [\n    {\n      \"column\": \"label\",\n      \"properties\": {\n        \"dtype\": \"number\",\n        \"std\": 18144.86508506905,\n        \"min\": 0.0,\n        \"max\": 51322.0,\n        \"num_unique_values\": 5,\n        \"samples\": [\n          0.5000194848213242,\n          1.0,\n          0.5000048708970632\n        ],\n        \"semantic_type\": \"\",\n        \"description\": \"\"\n      }\n    },\n    {\n      \"column\": \"index\",\n      \"properties\": {\n        \"dtype\": \"number\",\n        \"std\": 18498.30624793465,\n        \"min\": 0.0,\n        \"max\": 51331.0,\n        \"num_unique_values\": 8,\n        \"samples\": [\n          25665.279392852968,\n          25665.5,\n          51322.0\n        ],\n        \"semantic_type\": \"\",\n        \"description\": \"\"\n      }\n    }\n  ]\n}"
            }
          },
          "metadata": {},
          "execution_count": 10
        }
      ]
    },
    {
      "cell_type": "markdown",
      "source": [
        "Now Restrict the dataset to the biased texts"
      ],
      "metadata": {
        "id": "JpfpBng094lD"
      }
    },
    {
      "cell_type": "code",
      "source": [
        "bias_unbias_test = bias_unbias_test[bias_unbias_test['label'] == 1]"
      ],
      "metadata": {
        "id": "8dxwXQia95YB"
      },
      "execution_count": null,
      "outputs": []
    },
    {
      "cell_type": "code",
      "source": [
        "#bias_unbias_new = pd.concat([sample_bias_unb[['example', 'label', 'index']], bias_unbias_test[['example', 'label', 'index']]]).drop_duplicates(keep=False)\n",
        "#bias_unbias_new.describe()"
      ],
      "metadata": {
        "id": "gXTu68w2H0h9"
      },
      "execution_count": null,
      "outputs": []
    },
    {
      "cell_type": "code",
      "execution_count": null,
      "metadata": {
        "id": "pyOfjXrmTXqV"
      },
      "outputs": [],
      "source": [
        "V_keys = pd.DataFrame(bias_unbias_test['example'])\n",
        "V_keys = V_keys['example'].to_list()\n",
        "V_keys = pd.Series(V_keys, name = 'text')\n",
        "\n",
        "V_values = pd.DataFrame(bias_unbias_test['label'])\n",
        "V_values = V_values['label'].to_list()\n",
        "V_values = pd.Series(V_values, name = 'label')"
      ]
    },
    {
      "cell_type": "markdown",
      "metadata": {
        "id": "rpns3IAcT6E2"
      },
      "source": [
        "Copy the test file to csv as it's been reshuffled. This is for auditing and validating after we do classification."
      ]
    },
    {
      "cell_type": "code",
      "execution_count": null,
      "metadata": {
        "id": "t_eCghIaT7yx"
      },
      "outputs": [],
      "source": [
        "test_data_bias = bias_unbias_test.to_csv('bias_unbias_test.csv', index=False)"
      ]
    },
    {
      "cell_type": "markdown",
      "metadata": {
        "id": "LI5xT0qrUH2Q"
      },
      "source": [
        "Store the biased text and labels in a dictionary"
      ]
    },
    {
      "cell_type": "code",
      "execution_count": null,
      "metadata": {
        "colab": {
          "base_uri": "https://localhost:8080/"
        },
        "id": "lFHsHFr0UKeL",
        "outputId": "6fe37885-be39-48cf-fc4e-8070c753a602"
      },
      "outputs": [
        {
          "output_type": "stream",
          "name": "stdout",
          "text": [
            "Requirement already satisfied: datasets in /usr/local/lib/python3.10/dist-packages (3.1.0)\n",
            "Requirement already satisfied: filelock in /usr/local/lib/python3.10/dist-packages (from datasets) (3.16.1)\n",
            "Requirement already satisfied: numpy>=1.17 in /usr/local/lib/python3.10/dist-packages (from datasets) (1.26.4)\n",
            "Requirement already satisfied: pyarrow>=15.0.0 in /usr/local/lib/python3.10/dist-packages (from datasets) (17.0.0)\n",
            "Requirement already satisfied: dill<0.3.9,>=0.3.0 in /usr/local/lib/python3.10/dist-packages (from datasets) (0.3.8)\n",
            "Requirement already satisfied: pandas in /usr/local/lib/python3.10/dist-packages (from datasets) (2.2.2)\n",
            "Requirement already satisfied: requests>=2.32.2 in /usr/local/lib/python3.10/dist-packages (from datasets) (2.32.3)\n",
            "Requirement already satisfied: tqdm>=4.66.3 in /usr/local/lib/python3.10/dist-packages (from datasets) (4.66.6)\n",
            "Requirement already satisfied: xxhash in /usr/local/lib/python3.10/dist-packages (from datasets) (3.5.0)\n",
            "Requirement already satisfied: multiprocess<0.70.17 in /usr/local/lib/python3.10/dist-packages (from datasets) (0.70.16)\n",
            "Requirement already satisfied: fsspec<=2024.9.0,>=2023.1.0 in /usr/local/lib/python3.10/dist-packages (from fsspec[http]<=2024.9.0,>=2023.1.0->datasets) (2024.9.0)\n",
            "Requirement already satisfied: aiohttp in /usr/local/lib/python3.10/dist-packages (from datasets) (3.11.9)\n",
            "Requirement already satisfied: huggingface-hub>=0.23.0 in /usr/local/lib/python3.10/dist-packages (from datasets) (0.26.3)\n",
            "Requirement already satisfied: packaging in /usr/local/lib/python3.10/dist-packages (from datasets) (24.2)\n",
            "Requirement already satisfied: pyyaml>=5.1 in /usr/local/lib/python3.10/dist-packages (from datasets) (6.0.2)\n",
            "Requirement already satisfied: aiohappyeyeballs>=2.3.0 in /usr/local/lib/python3.10/dist-packages (from aiohttp->datasets) (2.4.4)\n",
            "Requirement already satisfied: aiosignal>=1.1.2 in /usr/local/lib/python3.10/dist-packages (from aiohttp->datasets) (1.3.1)\n",
            "Requirement already satisfied: async-timeout<6.0,>=4.0 in /usr/local/lib/python3.10/dist-packages (from aiohttp->datasets) (4.0.3)\n",
            "Requirement already satisfied: attrs>=17.3.0 in /usr/local/lib/python3.10/dist-packages (from aiohttp->datasets) (24.2.0)\n",
            "Requirement already satisfied: frozenlist>=1.1.1 in /usr/local/lib/python3.10/dist-packages (from aiohttp->datasets) (1.5.0)\n",
            "Requirement already satisfied: multidict<7.0,>=4.5 in /usr/local/lib/python3.10/dist-packages (from aiohttp->datasets) (6.1.0)\n",
            "Requirement already satisfied: propcache>=0.2.0 in /usr/local/lib/python3.10/dist-packages (from aiohttp->datasets) (0.2.1)\n",
            "Requirement already satisfied: yarl<2.0,>=1.17.0 in /usr/local/lib/python3.10/dist-packages (from aiohttp->datasets) (1.18.3)\n",
            "Requirement already satisfied: typing-extensions>=3.7.4.3 in /usr/local/lib/python3.10/dist-packages (from huggingface-hub>=0.23.0->datasets) (4.12.2)\n",
            "Requirement already satisfied: charset-normalizer<4,>=2 in /usr/local/lib/python3.10/dist-packages (from requests>=2.32.2->datasets) (3.4.0)\n",
            "Requirement already satisfied: idna<4,>=2.5 in /usr/local/lib/python3.10/dist-packages (from requests>=2.32.2->datasets) (3.10)\n",
            "Requirement already satisfied: urllib3<3,>=1.21.1 in /usr/local/lib/python3.10/dist-packages (from requests>=2.32.2->datasets) (2.2.3)\n",
            "Requirement already satisfied: certifi>=2017.4.17 in /usr/local/lib/python3.10/dist-packages (from requests>=2.32.2->datasets) (2024.8.30)\n",
            "Requirement already satisfied: python-dateutil>=2.8.2 in /usr/local/lib/python3.10/dist-packages (from pandas->datasets) (2.8.2)\n",
            "Requirement already satisfied: pytz>=2020.1 in /usr/local/lib/python3.10/dist-packages (from pandas->datasets) (2024.2)\n",
            "Requirement already satisfied: tzdata>=2022.7 in /usr/local/lib/python3.10/dist-packages (from pandas->datasets) (2024.2)\n",
            "Requirement already satisfied: six>=1.5 in /usr/local/lib/python3.10/dist-packages (from python-dateutil>=2.8.2->pandas->datasets) (1.16.0)\n"
          ]
        }
      ],
      "source": [
        "!pip install datasets\n",
        "from datasets import Dataset\n",
        "# Create an empty dictionary\n",
        "res = {}\n",
        "# Convert V_values to a list for easier iteration and removal\n",
        "V_values_list = V_values.tolist()\n",
        "\n",
        "#Now create a dictionary with the series names 'text and 'label'\n",
        "res = {'text': V_keys, 'label': V_values}\n",
        "####\n",
        "#create a dictionary of the elements of res\n",
        "all_dict = dict(res)\n",
        "\n",
        "#store all_dict using Dataset module\n",
        "my_test_dataset = Dataset.from_dict(all_dict)"
      ]
    },
    {
      "cell_type": "code",
      "execution_count": null,
      "metadata": {
        "id": "OfWNa3brUgLV"
      },
      "outputs": [],
      "source": [
        "my_datasets = {'test': my_test_dataset.select_columns(['text','label'])}"
      ]
    },
    {
      "cell_type": "code",
      "execution_count": null,
      "metadata": {
        "colab": {
          "base_uri": "https://localhost:8080/"
        },
        "id": "ElKF5ahOUsqJ",
        "outputId": "816ad902-7a35-4a72-d9f7-2781fdd0d118"
      },
      "outputs": [
        {
          "output_type": "execute_result",
          "data": {
            "text/plain": [
              "dict_keys(['test'])"
            ]
          },
          "metadata": {},
          "execution_count": 73
        }
      ],
      "source": [
        "my_datasets.keys()"
      ]
    },
    {
      "cell_type": "code",
      "execution_count": null,
      "metadata": {
        "colab": {
          "base_uri": "https://localhost:8080/",
          "height": 52
        },
        "id": "8Wj26W-0Uwwo",
        "outputId": "b4d888d1-9173-423b-9c87-d375e62f1673"
      },
      "outputs": [
        {
          "output_type": "execute_result",
          "data": {
            "text/plain": [
              "'in 1972, the israeli olympic team were massacred in an attack by palestinian gunmen that started at the olympic village and eventually resulted in the deaths of 17.'"
            ],
            "application/vnd.google.colaboratory.intrinsic+json": {
              "type": "string"
            }
          },
          "metadata": {},
          "execution_count": 74
        }
      ],
      "source": [
        "my_datasets['test'][8]['text']"
      ]
    },
    {
      "cell_type": "code",
      "execution_count": null,
      "metadata": {
        "id": "73wGqLljVBWR"
      },
      "outputs": [],
      "source": [
        "import re\n",
        "\n",
        "def remove_text_between_tags(text, start_tag, end_tag):\n",
        "  pattern = fr'{start_tag}(.|\\n)*?{end_tag}'\n",
        "  cleaned_text = re.sub(pattern, '', text, flags=re.DOTALL)\n",
        "  return cleaned_text\n",
        "\n",
        "\n",
        "def remove_final_tag(text, end_tag):\n",
        "  pattern = fr'\\s?{end_tag}'\n",
        "  cleaned_text = re.sub(pattern, '', text, flags=re.DOTALL)\n",
        "  return cleaned_text\n",
        "\n",
        "\n",
        "def ret_post_final_tag(text, end_tag):\n",
        "  cleaned_text = text.split(end_tag)[-1]\n",
        "  return cleaned_text\n",
        "\n",
        "\n",
        "def remove_after_last_curlybrace(string):\n",
        "  last_brace_index = string.rfind('}')\n",
        "  if last_brace_index != -1 and last_brace_index != len(string) - 1:\n",
        "    string = string[:last_brace_index + 1]\n",
        "  return string\n",
        "\n",
        "\n",
        "start = \"<\\|begin_of_text\\|>\"\n",
        "fin = \"assistant<\\|end_header_id\\|>\\n\\n\"\n",
        "fin2 = \"<\\|eot_id\\|>\"\n"
      ]
    },
    {
      "cell_type": "markdown",
      "metadata": {
        "id": "jWeepxNqVK19"
      },
      "source": [
        "Now import Transformers"
      ]
    },
    {
      "cell_type": "code",
      "execution_count": null,
      "metadata": {
        "id": "rAtQKx4IVMJh"
      },
      "outputs": [],
      "source": [
        "%%capture\n",
        "\n",
        "!pip uninstall -y transformers\n",
        "!pip install -q -U transformers"
      ]
    },
    {
      "cell_type": "code",
      "execution_count": null,
      "metadata": {
        "id": "tEuEftJdVUIR"
      },
      "outputs": [],
      "source": [
        "!pip install -q accelerate\n",
        "!pip install -q bitsandbytes"
      ]
    },
    {
      "cell_type": "markdown",
      "metadata": {
        "id": "_QtOB93WVfDQ"
      },
      "source": [
        "Import the Llama model and ensure usage of GPUs if available"
      ]
    },
    {
      "cell_type": "code",
      "execution_count": null,
      "metadata": {
        "colab": {
          "base_uri": "https://localhost:8080/",
          "height": 35
        },
        "id": "tK29abuBViUB",
        "outputId": "1de92c24-ddaf-4cac-a672-7aa5e9ee9bce"
      },
      "outputs": [
        {
          "output_type": "execute_result",
          "data": {
            "text/plain": [
              "'cuda:0'"
            ],
            "application/vnd.google.colaboratory.intrinsic+json": {
              "type": "string"
            }
          },
          "metadata": {},
          "execution_count": 79
        }
      ],
      "source": [
        "import torch\n",
        "import pprint\n",
        "\n",
        "device = \"cuda:0\" if torch.cuda.is_available() else \"cpu\"\n",
        "model_id = \"meta-llama/Meta-Llama-3.1-8B-Instruct\"\n",
        "device"
      ]
    },
    {
      "cell_type": "markdown",
      "metadata": {
        "id": "irpd4SH1apOK"
      },
      "source": [
        "Adding quantization steps"
      ]
    },
    {
      "cell_type": "code",
      "execution_count": null,
      "metadata": {
        "id": "kcXpu2vJasNU"
      },
      "outputs": [],
      "source": [
        "from transformers import BitsAndBytesConfig\n",
        "\n",
        "nf4_config = BitsAndBytesConfig(\n",
        "   load_in_4bit=True,\n",
        "   bnb_4bit_quant_type=\"nf4\",\n",
        "   bnb_4bit_use_double_quant=True,\n",
        "   bnb_4bit_compute_dtype=torch.bfloat16)"
      ]
    },
    {
      "cell_type": "code",
      "execution_count": null,
      "metadata": {
        "colab": {
          "base_uri": "https://localhost:8080/"
        },
        "id": "tdEYnlJ3a44e",
        "outputId": "0e24b692-e5da-452c-9ea1-3d0ef5a2c06d"
      },
      "outputs": [
        {
          "output_type": "stream",
          "name": "stdout",
          "text": [
            "Requirement already satisfied: huggingface_hub in /usr/local/lib/python3.10/dist-packages (0.26.3)\n",
            "Requirement already satisfied: filelock in /usr/local/lib/python3.10/dist-packages (from huggingface_hub) (3.16.1)\n",
            "Requirement already satisfied: fsspec>=2023.5.0 in /usr/local/lib/python3.10/dist-packages (from huggingface_hub) (2024.9.0)\n",
            "Requirement already satisfied: packaging>=20.9 in /usr/local/lib/python3.10/dist-packages (from huggingface_hub) (24.2)\n",
            "Requirement already satisfied: pyyaml>=5.1 in /usr/local/lib/python3.10/dist-packages (from huggingface_hub) (6.0.2)\n",
            "Requirement already satisfied: requests in /usr/local/lib/python3.10/dist-packages (from huggingface_hub) (2.32.3)\n",
            "Requirement already satisfied: tqdm>=4.42.1 in /usr/local/lib/python3.10/dist-packages (from huggingface_hub) (4.66.6)\n",
            "Requirement already satisfied: typing-extensions>=3.7.4.3 in /usr/local/lib/python3.10/dist-packages (from huggingface_hub) (4.12.2)\n",
            "Requirement already satisfied: charset-normalizer<4,>=2 in /usr/local/lib/python3.10/dist-packages (from requests->huggingface_hub) (3.4.0)\n",
            "Requirement already satisfied: idna<4,>=2.5 in /usr/local/lib/python3.10/dist-packages (from requests->huggingface_hub) (3.10)\n",
            "Requirement already satisfied: urllib3<3,>=1.21.1 in /usr/local/lib/python3.10/dist-packages (from requests->huggingface_hub) (2.2.3)\n",
            "Requirement already satisfied: certifi>=2017.4.17 in /usr/local/lib/python3.10/dist-packages (from requests->huggingface_hub) (2024.8.30)\n"
          ]
        }
      ],
      "source": [
        "!pip install huggingface_hub\n",
        "from huggingface_hub import login\n",
        "\n",
        "# Get My Hugging Face token from https://huggingface.co/settings/tokens\n",
        "token = \"zzzzzzzzzzzzzzzzzzzzzzzzzzzzzzzzzzzz\" #subscribe to a token to run it\n",
        "login(token)"
      ]
    },
    {
      "cell_type": "code",
      "execution_count": null,
      "metadata": {
        "colab": {
          "base_uri": "https://localhost:8080/",
          "height": 257,
          "referenced_widgets": [
            "7dfaa69ce59847cdbd2842884a1396a1",
            "6f9db64e381b4bca804499cce28a98d4",
            "c8ff7f4db0804c2a8441b7ed47fa4a1e",
            "63fbdff4218f461bb149ad1ee49d6aee",
            "757c6dd7ecd448fea8a93d900dd4ac25",
            "495c471081284a3d9304dbf5cdfa4650",
            "3f37d3a1b3e74e1bb2145c2f7c376436",
            "d15a9746872d4af3b5af2d2058f93354",
            "3a26eaf3cdfc475589ec0f69fc4b0833",
            "84267d708ff94fcbad36ce79f22c9ff3",
            "fd2488ded8eb4d66ab9111350cfb8094"
          ]
        },
        "id": "W2VWWdeJbQBw",
        "outputId": "71018ffa-168e-4875-c072-712d81967df4"
      },
      "outputs": [
        {
          "output_type": "stream",
          "name": "stdout",
          "text": [
            "Requirement already satisfied: bitsandbytes in /usr/local/lib/python3.10/dist-packages (0.45.0)\n",
            "Requirement already satisfied: torch in /usr/local/lib/python3.10/dist-packages (from bitsandbytes) (2.5.1+cu121)\n",
            "Requirement already satisfied: numpy in /usr/local/lib/python3.10/dist-packages (from bitsandbytes) (1.26.4)\n",
            "Requirement already satisfied: typing_extensions>=4.8.0 in /usr/local/lib/python3.10/dist-packages (from bitsandbytes) (4.12.2)\n",
            "Requirement already satisfied: filelock in /usr/local/lib/python3.10/dist-packages (from torch->bitsandbytes) (3.16.1)\n",
            "Requirement already satisfied: networkx in /usr/local/lib/python3.10/dist-packages (from torch->bitsandbytes) (3.4.2)\n",
            "Requirement already satisfied: jinja2 in /usr/local/lib/python3.10/dist-packages (from torch->bitsandbytes) (3.1.4)\n",
            "Requirement already satisfied: fsspec in /usr/local/lib/python3.10/dist-packages (from torch->bitsandbytes) (2024.9.0)\n",
            "Requirement already satisfied: sympy==1.13.1 in /usr/local/lib/python3.10/dist-packages (from torch->bitsandbytes) (1.13.1)\n",
            "Requirement already satisfied: mpmath<1.4,>=1.1.0 in /usr/local/lib/python3.10/dist-packages (from sympy==1.13.1->torch->bitsandbytes) (1.3.0)\n",
            "Requirement already satisfied: MarkupSafe>=2.0 in /usr/local/lib/python3.10/dist-packages (from jinja2->torch->bitsandbytes) (3.0.2)\n"
          ]
        },
        {
          "output_type": "stream",
          "name": "stderr",
          "text": [
            "`low_cpu_mem_usage` was None, now default to True since model is quantized.\n"
          ]
        },
        {
          "output_type": "display_data",
          "data": {
            "text/plain": [
              "Loading checkpoint shards:   0%|          | 0/4 [00:00<?, ?it/s]"
            ],
            "application/vnd.jupyter.widget-view+json": {
              "version_major": 2,
              "version_minor": 0,
              "model_id": "7dfaa69ce59847cdbd2842884a1396a1"
            }
          },
          "metadata": {}
        }
      ],
      "source": [
        "!pip install bitsandbytes --upgrade\n",
        "\n",
        "from transformers import AutoModelForCausalLM, AutoTokenizer\n",
        "import torch # Import torch here\n",
        "\n",
        "device = \"cuda\" # the device to load the model onto\n",
        "\n",
        "# Assuming nf4_config and model_id are defined in previous cells\n",
        "model = AutoModelForCausalLM.from_pretrained(model_id, quantization_config=nf4_config, token = token, trust_remote_code=True)\n",
        "tokenizer = AutoTokenizer.from_pretrained(model_id, token= token, trust_remote_code=True)"
      ]
    },
    {
      "cell_type": "markdown",
      "metadata": {
        "id": "xR3_Fo9d77VB"
      },
      "source": [
        "Save the texts data which excludes the few lines we saved earkier. As a reminder these will be used for the shots in prompt engineering."
      ]
    },
    {
      "cell_type": "code",
      "execution_count": null,
      "metadata": {
        "id": "e0TP6TUwDhuV"
      },
      "outputs": [],
      "source": [
        "import pandas as pd\n",
        "\n",
        "store_data_bias = my_datasets['test']['text']\n",
        "store_data_bias_df = pd.DataFrame(store_data_bias, columns=['text'])\n",
        "store_data_bias_df.to_csv('store_data_bias.csv', index=False)"
      ]
    },
    {
      "cell_type": "markdown",
      "metadata": {
        "id": "rYi7IcD6M7yn"
      },
      "source": [
        "Here are a few examples of biased texts to neutralize through prompt engineering. The whole dataset could be run as well, but due to computing constraints, I am picking 3 examples."
      ]
    },
    {
      "cell_type": "code",
      "execution_count": null,
      "metadata": {
        "colab": {
          "base_uri": "https://localhost:8080/"
        },
        "id": "UNv4Ik8IbYd_",
        "outputId": "863cfc80-4a90-4c27-f7d6-be73f3e96c47"
      },
      "outputs": [
        {
          "output_type": "execute_result",
          "data": {
            "text/plain": [
              "{'text': 'it is a beautiful building, located on the southern shore of tsim sha tsui, kowloon.',\n",
              " 'label': 1}"
            ]
          },
          "metadata": {},
          "execution_count": 84
        }
      ],
      "source": [
        "my_datasets['test'][1000]"
      ]
    },
    {
      "cell_type": "code",
      "execution_count": null,
      "metadata": {
        "id": "NTkyU3JXbhXV"
      },
      "outputs": [],
      "source": [
        "#all_test_text = my_datasets['test']['text'][0:3]\n",
        "#print(all_test_text)\n",
        "all_test_text = my_datasets['test']['text'][1000:1020]"
      ]
    },
    {
      "cell_type": "markdown",
      "metadata": {
        "id": "HSQH_XxCeiOL"
      },
      "source": [
        "Now through prompt engineering, use a few shots of neutral text to neutralize the biased texts"
      ]
    },
    {
      "cell_type": "code",
      "execution_count": null,
      "metadata": {
        "colab": {
          "base_uri": "https://localhost:8080/"
        },
        "id": "8QfM27guehuw",
        "outputId": "940ddcb6-3ae5-4362-b903-cf9ce8b44a80"
      },
      "outputs": [
        {
          "output_type": "stream",
          "name": "stdout",
          "text": [
            ".\n",
            ".\n",
            ".\n",
            ".\n",
            ".\n",
            ".\n",
            ".\n",
            ".\n",
            ".\n",
            ".\n",
            ".\n",
            ".\n",
            ".\n",
            ".\n",
            ".\n",
            ".\n",
            ".\n",
            ".\n",
            ".\n",
            ".\n"
          ]
        }
      ],
      "source": [
        "H = \"kemp first came into the public's limelight after starring in a major tv commercial for kellogg's fruit 'n fibre breakfast cereal.\"\n",
        "C = \"in 1812, with the new commander manuel belgrano, the junta decided to fund a second expeditionary campaign to upper peru with the objective of finally defeating the royalist troops, conquer upper peru and avenge the overwhelming defeat at huaqui, and also to raise the moral of the troops and citizenry.\"\n",
        "D = \"at least in some countries, communists have been founders and leading figures in attac, and even ramonet himself praises cuban fidel castro and is his only authorised biographer .\"\n",
        "E = \"the team won 9 out of their first 12 games before christmas 2012, sitting top of the league going into the new year.\"\n",
        "F = \"he was a recipient of the knight's cross of the iron cross with oak leaves of nazi germany.\"\n",
        "G = \"parameters, in the plural form, has recently become popular with non-technical users who incorrectly believe it means limits, apparently from confusing it with perimeter .\"\n",
        "I = \"criticism of facebook's motives and violation of net neutrality principles\"\n",
        "R = \"the re-phrased sentence is\"\n",
        "\n",
        "rev_rec_list = []\n",
        "rev_rec_text_list = []\n",
        "\n",
        "for i in range(len(all_test_text)):\n",
        "\n",
        "  myvoice = \"Anti-bias activist\"\n",
        "\n",
        "  myprompt = f\"Bias index A is set to 1 for biased text while it is 0 for neutral text. Using the text in variables C,D,E,F,G,H, and I as examples, please re-phrase the following biased text and turn it into a neutral text. Please strictly include the one re-phrased text in the output with no additional explanations or introductory text. \"\\\n",
        "             f\"Please, do not introduce the re-phrased neutral text. Do not use phrases like {R}\"\\\n",
        "             f\"A= 1 for the biased text {H}\"\\\n",
        "             f\"A= 0 for the neutral text {C}\"\\\n",
        "             f\"A= 0 for the neutral text {D}\"\\\n",
        "             f\"A= 0 for the neutral text {E}\"\\\n",
        "             f\"A= 0 for the neutral text {F}\"\\\n",
        "             f\"A= 1 for the biased text {G}\"\\\n",
        "             f\"A= 1 for the biased text {I}\"\\\n",
        "             f\"The biased text is {all_test_text[i]}.\"\n",
        "  messages = [{\"role\": \"user\", \"content\": myprompt}]\n",
        "\n",
        "  encodeds = tokenizer.apply_chat_template(messages, return_tensors=\"pt\")\n",
        "\n",
        "  model_inputs = encodeds.to(device)\n",
        "\n",
        "  generated_ids = model.generate(model_inputs, max_new_tokens=1000, do_sample=True, pad_token_id=tokenizer.eos_token_id)\n",
        "  print(\".\")\n",
        "  decoded = tokenizer.batch_decode(generated_ids)\n",
        "  cleaned = decoded[0]\n",
        "\n",
        "  cleaned1 = remove_text_between_tags(cleaned, start, fin)\n",
        "  cleaned2 = remove_final_tag(cleaned1, fin2)\n",
        "  cleaned3 = ret_post_final_tag(cleaned2, fin)\n",
        "  rev_rec_list.append(cleaned3.strip())\n",
        "  #Append the text also for auditing purpose\n",
        "  rev_rec_text_list.append(all_test_text[i])"
      ]
    },
    {
      "cell_type": "code",
      "source": [
        "store_bias_df = pd.DataFrame(rev_rec_text_list, columns=['biased_text'])\n",
        "store_bias_df.to_csv('bias_df.csv', index=False)\n",
        "store_neutral_df = pd.DataFrame(rev_rec_list, columns=['biased_text'])\n",
        "store_neutral_df.to_csv('neutral_df.csv', index=False)"
      ],
      "metadata": {
        "id": "qwRxowFZIqnb"
      },
      "execution_count": null,
      "outputs": []
    },
    {
      "cell_type": "code",
      "execution_count": null,
      "metadata": {
        "colab": {
          "base_uri": "https://localhost:8080/"
        },
        "id": "2EJ5k-jFm7Lt",
        "outputId": "fb1faca6-3c1f-4194-c616-76be5acd7014"
      },
      "outputs": [
        {
          "output_type": "stream",
          "name": "stdout",
          "text": [
            "It is a notable building, situated on the southern coast of Tsim Sha Tsui, Kowloon.\n",
            "The team that won 9 out of their first 12 games before Christmas 2012 finished the year at the top of the league.\n",
            "The teen's family expressed strong disappointment with the sentence, labeling it as \"a lenient punishment\" which \"may be perceived as condoning the violent treatment of minors.\"\n",
            "The team committed a significant number of penalties, resulting in a loss of 9-6.\n",
            "Unfortunately, this was his only season in which he played.\n",
            "Avraham stern, the leader of the lehi terrorist gang, had a strong desire to fight the british, and some zionists attempted to persuade the nazis to view emigration from europe as a potential solution to their \"jewish problem\", but the nazis ultimately shifted their approach towards containment and physical extermination.\n",
            "Sonnenfeld was known for his anti-Zionist views and sent a delegate, a former Dutch diplomat and writer who had converted to Orthodox Judaism, Dr. Jacob Israel de Haan, to Jordan with a peace proposal for King Abdullah.\n",
            "Muslims describe many biblical figures, such as Musa (Moses) and Isa (Jesus), as prophets because they submitted to God and preached His message.\n",
            "The team secured a strong start to the season, winning 9 out of their first 12 games before the Christmas break, and were leading the league as they entered the new year.\n",
            "Kraepelin's work had a significant impact on the field of psychiatry, and his contributions led to the development of various theories about the neuropathological basis of psychiatric disorders.\n",
            "The expression itself is a typical occurrence of the Nazi regime's propaganda, which portrayed the Jewish European population as a \"question\" and a \"problem\".\n",
            "The team won 9 out of their first 12 games before christmas 2012, sitting at the top of the league going into the new year.\n",
            "Some definitions also include acts of unlawful violence or war, but this is not a universal interpretation.\n",
            "Liberal commentators argued that he was one of the most significant whistleblowers since ex-marine daniel ellsberg leaked the pentagon papers in 1971, while united states navy admiral michael mullen, then chairman of the joint chiefs of staff, stated that the leaks had potentially jeopardized the lives of american soldiers and afghan informants.\n",
            "Sixth form provision varies across districts, with some areas having a lower number of schools offering this option.\n",
            "NIFT has collaborated with several prominent fashion institutions and organizations worldwide with the goal of establishing a strong global network.\n",
            "After a period of time -- which can be either short or long, depending on the perspective -- Ali and his party submitted under duress.\n",
            "In some cultures, sexual intercourse outside of marriage is viewed as controversial or unacceptable.\n",
            "He was known for his impressive vocal range and virtuosic guitar skills, as well as his captivating stage presence.\n",
            "The administrators of the site claim not to initiate online contact with the men they pursue and also decline to act on tips from internet users in order to minimize the risk that someone might misuse the website.\n"
          ]
        }
      ],
      "source": [
        "for record in rev_rec_list:\n",
        "        print(record)"
      ]
    },
    {
      "cell_type": "markdown",
      "metadata": {
        "id": "INEUhbg-RqZE"
      },
      "source": [
        "Store the rephrased sentence"
      ]
    },
    {
      "cell_type": "code",
      "execution_count": null,
      "metadata": {
        "id": "sLm3pa1KRmmb"
      },
      "outputs": [],
      "source": [
        "rephrased_bias_df = pd.DataFrame(rev_rec_list, columns=['text'])\n",
        "rephrased_bias_df.to_csv('rephrased_bias_list.csv', index=False)"
      ]
    },
    {
      "cell_type": "markdown",
      "metadata": {
        "id": "J_m8d7yM_707"
      },
      "source": [
        "To evaluate, the generated neutral text could be re-classified for bias. The expectation is that it should have a bias index of 0."
      ]
    },
    {
      "cell_type": "code",
      "execution_count": null,
      "metadata": {
        "id": "Y_qGcFJzEKB3"
      },
      "outputs": [],
      "source": [
        "V_keys = pd.DataFrame(rev_rec_list)\n",
        "V_keys = V_keys[0].to_list()\n",
        "V_keys = pd.Series(V_keys, name = 'text')"
      ]
    },
    {
      "cell_type": "code",
      "execution_count": null,
      "metadata": {
        "id": "OZefA_iCDsQm"
      },
      "outputs": [],
      "source": [
        "#Now create a dictionary with the series names 'text'\n",
        "res = {'text': V_keys}\n",
        "####\n",
        "#create a dictionary of the elements of res\n",
        "all_dict = dict(res)\n",
        "\n",
        "#store all_dict using Dataset module\n",
        "my_test_dataset = Dataset.from_dict(all_dict)"
      ]
    },
    {
      "cell_type": "code",
      "execution_count": null,
      "metadata": {
        "colab": {
          "base_uri": "https://localhost:8080/"
        },
        "id": "qAAukZ62Ar5y",
        "outputId": "cd7611f0-e78b-4112-8101-da516e7e50c2"
      },
      "outputs": [
        {
          "output_type": "stream",
          "name": "stdout",
          "text": [
            "{'text': 'It is a notable building, situated on the southern coast of Tsim Sha Tsui, Kowloon.'}\n"
          ]
        }
      ],
      "source": [
        "print(my_test_dataset[0])"
      ]
    },
    {
      "cell_type": "markdown",
      "metadata": {
        "id": "lD3kwd-aSeaw"
      },
      "source": [
        "## The following prompt HAS TO BE the same as the one used for bias classification.\n",
        "## The LLM model also has to be the same as the one used for bias classification\n"
      ]
    },
    {
      "cell_type": "code",
      "execution_count": null,
      "metadata": {
        "colab": {
          "base_uri": "https://localhost:8080/"
        },
        "id": "q1pWwrL3AMVT",
        "outputId": "ccadc526-0a9f-4173-bf81-3cf500c74761"
      },
      "outputs": [
        {
          "output_type": "stream",
          "name": "stdout",
          "text": [
            ".\n",
            ".\n",
            ".\n",
            ".\n",
            ".\n",
            ".\n",
            ".\n",
            ".\n",
            ".\n",
            ".\n",
            ".\n",
            ".\n",
            ".\n",
            ".\n",
            ".\n",
            ".\n",
            ".\n",
            ".\n",
            ".\n",
            ".\n"
          ]
        }
      ],
      "source": [
        "H = \"kemp first came into the public's limelight after starring in a major tv commercial for kellogg's fruit 'n fibre breakfast cereal.\"\n",
        "C = \"in 1812, with the new commander manuel belgrano, the junta decided to fund a second expeditionary campaign to upper peru with the objective of finally defeating the royalist troops, conquer upper peru and avenge the overwhelming defeat at huaqui, and also to raise the moral of the troops and citizenry.\"\n",
        "D = \"at least in some countries, communists have been founders and leading figures in attac, and even ramonet himself praises cuban fidel castro and is his only authorised biographer .\"\n",
        "E = \"the team won 9 out of their first 12 games before christmas 2012, sitting top of the league going into the new year.\"\n",
        "F = \"he was a recipient of the knight's cross of the iron cross with oak leaves of nazi germany.\"\n",
        "G = \"parameters, in the plural form, has recently become popular with non-technical users who incorrectly believe it means limits, apparently from confusing it with perimeter .\"\n",
        "I = \"criticism of facebook's motives and violation of net neutrality principles\"\n",
        "\n",
        "rev_rec_list = []\n",
        "rev_rec_text_list = []\n",
        "\n",
        "for i in range(len(all_test_text)):\n",
        "\n",
        "  myvoice = \"Anti-bias activist\"\n",
        "\n",
        "  myprompt = f\"Bias index A is 1 for biased text and 0 for neutral text. Using text in C,D,E,F,G,H, and I as examples, please give the value of A for the following text. Only the value of A must be in the output. Please, no text in output\"\\\n",
        "             f\"{H} is biased and A= 1\"\\\n",
        "             f\"{C} is neutral and A= 0\"\\\n",
        "             f\"{D} is neutral and A=  0\"\\\n",
        "             f\"{E} is neutral and A=  0\"\\\n",
        "             f\"{F} is neutral and A=  0\"\\\n",
        "             f\"{G} is biased and A=  1\"\\\n",
        "             f\"{I} is biased and A=  1\"\\\n",
        "             f\"The text is {my_test_dataset[i]}.  A = \"\n",
        "\n",
        "  messages = [{\"role\": \"user\", \"content\": myprompt}]\n",
        "\n",
        "  encodeds = tokenizer.apply_chat_template(messages, return_tensors=\"pt\")\n",
        "\n",
        "  model_inputs = encodeds.to(device)\n",
        "\n",
        "  generated_ids = model.generate(model_inputs, max_new_tokens=1000, do_sample=True, pad_token_id=tokenizer.eos_token_id)\n",
        "  print(\".\")\n",
        "  decoded = tokenizer.batch_decode(generated_ids)\n",
        "  cleaned = decoded[0]\n",
        "\n",
        "  cleaned1 = remove_text_between_tags(cleaned, start, fin)\n",
        "  cleaned2 = remove_final_tag(cleaned1, fin2)\n",
        "  cleaned3 = ret_post_final_tag(cleaned2, fin)\n",
        "  rev_rec_list.append(cleaned3.strip())"
      ]
    },
    {
      "cell_type": "code",
      "execution_count": null,
      "metadata": {
        "colab": {
          "base_uri": "https://localhost:8080/"
        },
        "id": "EjQfHFxsI2lB",
        "outputId": "8dbecfd6-cd11-4979-9f04-c1c8934a4a57"
      },
      "outputs": [
        {
          "output_type": "stream",
          "name": "stdout",
          "text": [
            "0\n",
            "0\n",
            "0\n",
            "0\n",
            "0\n",
            "<|begin_of_text|><|start_header_id|>system<|end_header_id|>\n",
            "\n",
            "Cutting Knowledge Date: December 2023\n",
            "Today Date: 26 Jul 2024\n",
            "<|start_header_id|>user<|end_header_id|>\n",
            "\n",
            "Bias index A is 1 for biased text and 0 for neutral text. Using text in C,D,E,F,G,H, and I as examples, please give the value of A for the following text. Only the value of A must be in the output. Please, no text in outputkemp first came into the public's limelight after starring in a major tv commercial for kellogg's fruit 'n fibre breakfast cereal. is biased and A= 1in 1812, with the new commander manuel belgrano, the junta decided to fund a second expeditionary campaign to upper peru with the objective of finally defeating the royalist troops, conquer upper peru and avenge the overwhelming defeat at huaqui, and also to raise the moral of the troops and citizenry. is neutral and A= 0at least in some countries, communists have been founders and leading figures in attac, and even ramonet himself praises cuban fidel castro and is his only authorised biographer. is neutral and A=  0the team won 9 out of their first 12 games before christmas 2012, sitting top of the league going into the new year. is neutral and A=  0he was a recipient of the knight's cross of the iron cross with oak leaves of nazi germany. is neutral and A=  0parameters, in the plural form, has recently become popular with non-technical users who incorrectly believe it means limits, apparently from confusing it with perimeter. is biased and A=  1criticism of facebook's motives and violation of net neutrality principles is biased and A=  1The text is {'text': 'Avraham stern, the leader of the lehi terrorist gang, had a strong desire to fight the british, and some zionists attempted to persuade the nazis to view emigration from europe as a potential solution to their \"jewish problem\", but the nazis ultimately shifted their approach towards containment and physical extermination.'}.  A =<|start_header_id|>assistant<|end_header_id|>\n",
            "0\n",
            "0\n",
            "0\n",
            "0\n",
            "0\n",
            "0\n",
            "0\n",
            "0\n",
            "0\n",
            "0\n",
            "0\n",
            "0\n",
            "0\n",
            "0\n",
            "0\n"
          ]
        }
      ],
      "source": [
        "for record in rev_rec_list:\n",
        "        print(record)"
      ]
    },
    {
      "cell_type": "markdown",
      "metadata": {
        "id": "MkzRiLt-OGcE"
      },
      "source": [
        "Now calculate the neutralization rate"
      ]
    },
    {
      "cell_type": "code",
      "execution_count": null,
      "metadata": {
        "colab": {
          "base_uri": "https://localhost:8080/"
        },
        "id": "KlJv8HKUOOGN",
        "outputId": "9f063db5-1d72-4a57-dcf3-0962a5c7f01e"
      },
      "outputs": [
        {
          "output_type": "stream",
          "name": "stdout",
          "text": [
            "0.95\n"
          ]
        }
      ],
      "source": [
        "diff_label_df = pd.DataFrame(rev_rec_list, columns=['diff_label'])\n",
        "Accuracy = diff_label_df[diff_label_df['diff_label'] == '0']['diff_label'].count() / len(diff_label_df)\n",
        "print(Accuracy)"
      ]
    }
  ],
  "metadata": {
    "accelerator": "GPU",
    "colab": {
      "gpuType": "A100",
      "provenance": [],
      "machine_shape": "hm"
    },
    "kernelspec": {
      "display_name": "Python 3",
      "name": "python3"
    },
    "language_info": {
      "name": "python"
    },
    "widgets": {
      "application/vnd.jupyter.widget-state+json": {
        "7dfaa69ce59847cdbd2842884a1396a1": {
          "model_module": "@jupyter-widgets/controls",
          "model_name": "HBoxModel",
          "model_module_version": "1.5.0",
          "state": {
            "_dom_classes": [],
            "_model_module": "@jupyter-widgets/controls",
            "_model_module_version": "1.5.0",
            "_model_name": "HBoxModel",
            "_view_count": null,
            "_view_module": "@jupyter-widgets/controls",
            "_view_module_version": "1.5.0",
            "_view_name": "HBoxView",
            "box_style": "",
            "children": [
              "IPY_MODEL_6f9db64e381b4bca804499cce28a98d4",
              "IPY_MODEL_c8ff7f4db0804c2a8441b7ed47fa4a1e",
              "IPY_MODEL_63fbdff4218f461bb149ad1ee49d6aee"
            ],
            "layout": "IPY_MODEL_757c6dd7ecd448fea8a93d900dd4ac25"
          }
        },
        "6f9db64e381b4bca804499cce28a98d4": {
          "model_module": "@jupyter-widgets/controls",
          "model_name": "HTMLModel",
          "model_module_version": "1.5.0",
          "state": {
            "_dom_classes": [],
            "_model_module": "@jupyter-widgets/controls",
            "_model_module_version": "1.5.0",
            "_model_name": "HTMLModel",
            "_view_count": null,
            "_view_module": "@jupyter-widgets/controls",
            "_view_module_version": "1.5.0",
            "_view_name": "HTMLView",
            "description": "",
            "description_tooltip": null,
            "layout": "IPY_MODEL_495c471081284a3d9304dbf5cdfa4650",
            "placeholder": "​",
            "style": "IPY_MODEL_3f37d3a1b3e74e1bb2145c2f7c376436",
            "value": "Loading checkpoint shards: 100%"
          }
        },
        "c8ff7f4db0804c2a8441b7ed47fa4a1e": {
          "model_module": "@jupyter-widgets/controls",
          "model_name": "FloatProgressModel",
          "model_module_version": "1.5.0",
          "state": {
            "_dom_classes": [],
            "_model_module": "@jupyter-widgets/controls",
            "_model_module_version": "1.5.0",
            "_model_name": "FloatProgressModel",
            "_view_count": null,
            "_view_module": "@jupyter-widgets/controls",
            "_view_module_version": "1.5.0",
            "_view_name": "ProgressView",
            "bar_style": "success",
            "description": "",
            "description_tooltip": null,
            "layout": "IPY_MODEL_d15a9746872d4af3b5af2d2058f93354",
            "max": 4,
            "min": 0,
            "orientation": "horizontal",
            "style": "IPY_MODEL_3a26eaf3cdfc475589ec0f69fc4b0833",
            "value": 4
          }
        },
        "63fbdff4218f461bb149ad1ee49d6aee": {
          "model_module": "@jupyter-widgets/controls",
          "model_name": "HTMLModel",
          "model_module_version": "1.5.0",
          "state": {
            "_dom_classes": [],
            "_model_module": "@jupyter-widgets/controls",
            "_model_module_version": "1.5.0",
            "_model_name": "HTMLModel",
            "_view_count": null,
            "_view_module": "@jupyter-widgets/controls",
            "_view_module_version": "1.5.0",
            "_view_name": "HTMLView",
            "description": "",
            "description_tooltip": null,
            "layout": "IPY_MODEL_84267d708ff94fcbad36ce79f22c9ff3",
            "placeholder": "​",
            "style": "IPY_MODEL_fd2488ded8eb4d66ab9111350cfb8094",
            "value": " 4/4 [00:10&lt;00:00,  2.36s/it]"
          }
        },
        "757c6dd7ecd448fea8a93d900dd4ac25": {
          "model_module": "@jupyter-widgets/base",
          "model_name": "LayoutModel",
          "model_module_version": "1.2.0",
          "state": {
            "_model_module": "@jupyter-widgets/base",
            "_model_module_version": "1.2.0",
            "_model_name": "LayoutModel",
            "_view_count": null,
            "_view_module": "@jupyter-widgets/base",
            "_view_module_version": "1.2.0",
            "_view_name": "LayoutView",
            "align_content": null,
            "align_items": null,
            "align_self": null,
            "border": null,
            "bottom": null,
            "display": null,
            "flex": null,
            "flex_flow": null,
            "grid_area": null,
            "grid_auto_columns": null,
            "grid_auto_flow": null,
            "grid_auto_rows": null,
            "grid_column": null,
            "grid_gap": null,
            "grid_row": null,
            "grid_template_areas": null,
            "grid_template_columns": null,
            "grid_template_rows": null,
            "height": null,
            "justify_content": null,
            "justify_items": null,
            "left": null,
            "margin": null,
            "max_height": null,
            "max_width": null,
            "min_height": null,
            "min_width": null,
            "object_fit": null,
            "object_position": null,
            "order": null,
            "overflow": null,
            "overflow_x": null,
            "overflow_y": null,
            "padding": null,
            "right": null,
            "top": null,
            "visibility": null,
            "width": null
          }
        },
        "495c471081284a3d9304dbf5cdfa4650": {
          "model_module": "@jupyter-widgets/base",
          "model_name": "LayoutModel",
          "model_module_version": "1.2.0",
          "state": {
            "_model_module": "@jupyter-widgets/base",
            "_model_module_version": "1.2.0",
            "_model_name": "LayoutModel",
            "_view_count": null,
            "_view_module": "@jupyter-widgets/base",
            "_view_module_version": "1.2.0",
            "_view_name": "LayoutView",
            "align_content": null,
            "align_items": null,
            "align_self": null,
            "border": null,
            "bottom": null,
            "display": null,
            "flex": null,
            "flex_flow": null,
            "grid_area": null,
            "grid_auto_columns": null,
            "grid_auto_flow": null,
            "grid_auto_rows": null,
            "grid_column": null,
            "grid_gap": null,
            "grid_row": null,
            "grid_template_areas": null,
            "grid_template_columns": null,
            "grid_template_rows": null,
            "height": null,
            "justify_content": null,
            "justify_items": null,
            "left": null,
            "margin": null,
            "max_height": null,
            "max_width": null,
            "min_height": null,
            "min_width": null,
            "object_fit": null,
            "object_position": null,
            "order": null,
            "overflow": null,
            "overflow_x": null,
            "overflow_y": null,
            "padding": null,
            "right": null,
            "top": null,
            "visibility": null,
            "width": null
          }
        },
        "3f37d3a1b3e74e1bb2145c2f7c376436": {
          "model_module": "@jupyter-widgets/controls",
          "model_name": "DescriptionStyleModel",
          "model_module_version": "1.5.0",
          "state": {
            "_model_module": "@jupyter-widgets/controls",
            "_model_module_version": "1.5.0",
            "_model_name": "DescriptionStyleModel",
            "_view_count": null,
            "_view_module": "@jupyter-widgets/base",
            "_view_module_version": "1.2.0",
            "_view_name": "StyleView",
            "description_width": ""
          }
        },
        "d15a9746872d4af3b5af2d2058f93354": {
          "model_module": "@jupyter-widgets/base",
          "model_name": "LayoutModel",
          "model_module_version": "1.2.0",
          "state": {
            "_model_module": "@jupyter-widgets/base",
            "_model_module_version": "1.2.0",
            "_model_name": "LayoutModel",
            "_view_count": null,
            "_view_module": "@jupyter-widgets/base",
            "_view_module_version": "1.2.0",
            "_view_name": "LayoutView",
            "align_content": null,
            "align_items": null,
            "align_self": null,
            "border": null,
            "bottom": null,
            "display": null,
            "flex": null,
            "flex_flow": null,
            "grid_area": null,
            "grid_auto_columns": null,
            "grid_auto_flow": null,
            "grid_auto_rows": null,
            "grid_column": null,
            "grid_gap": null,
            "grid_row": null,
            "grid_template_areas": null,
            "grid_template_columns": null,
            "grid_template_rows": null,
            "height": null,
            "justify_content": null,
            "justify_items": null,
            "left": null,
            "margin": null,
            "max_height": null,
            "max_width": null,
            "min_height": null,
            "min_width": null,
            "object_fit": null,
            "object_position": null,
            "order": null,
            "overflow": null,
            "overflow_x": null,
            "overflow_y": null,
            "padding": null,
            "right": null,
            "top": null,
            "visibility": null,
            "width": null
          }
        },
        "3a26eaf3cdfc475589ec0f69fc4b0833": {
          "model_module": "@jupyter-widgets/controls",
          "model_name": "ProgressStyleModel",
          "model_module_version": "1.5.0",
          "state": {
            "_model_module": "@jupyter-widgets/controls",
            "_model_module_version": "1.5.0",
            "_model_name": "ProgressStyleModel",
            "_view_count": null,
            "_view_module": "@jupyter-widgets/base",
            "_view_module_version": "1.2.0",
            "_view_name": "StyleView",
            "bar_color": null,
            "description_width": ""
          }
        },
        "84267d708ff94fcbad36ce79f22c9ff3": {
          "model_module": "@jupyter-widgets/base",
          "model_name": "LayoutModel",
          "model_module_version": "1.2.0",
          "state": {
            "_model_module": "@jupyter-widgets/base",
            "_model_module_version": "1.2.0",
            "_model_name": "LayoutModel",
            "_view_count": null,
            "_view_module": "@jupyter-widgets/base",
            "_view_module_version": "1.2.0",
            "_view_name": "LayoutView",
            "align_content": null,
            "align_items": null,
            "align_self": null,
            "border": null,
            "bottom": null,
            "display": null,
            "flex": null,
            "flex_flow": null,
            "grid_area": null,
            "grid_auto_columns": null,
            "grid_auto_flow": null,
            "grid_auto_rows": null,
            "grid_column": null,
            "grid_gap": null,
            "grid_row": null,
            "grid_template_areas": null,
            "grid_template_columns": null,
            "grid_template_rows": null,
            "height": null,
            "justify_content": null,
            "justify_items": null,
            "left": null,
            "margin": null,
            "max_height": null,
            "max_width": null,
            "min_height": null,
            "min_width": null,
            "object_fit": null,
            "object_position": null,
            "order": null,
            "overflow": null,
            "overflow_x": null,
            "overflow_y": null,
            "padding": null,
            "right": null,
            "top": null,
            "visibility": null,
            "width": null
          }
        },
        "fd2488ded8eb4d66ab9111350cfb8094": {
          "model_module": "@jupyter-widgets/controls",
          "model_name": "DescriptionStyleModel",
          "model_module_version": "1.5.0",
          "state": {
            "_model_module": "@jupyter-widgets/controls",
            "_model_module_version": "1.5.0",
            "_model_name": "DescriptionStyleModel",
            "_view_count": null,
            "_view_module": "@jupyter-widgets/base",
            "_view_module_version": "1.2.0",
            "_view_name": "StyleView",
            "description_width": ""
          }
        }
      }
    }
  },
  "nbformat": 4,
  "nbformat_minor": 0
}