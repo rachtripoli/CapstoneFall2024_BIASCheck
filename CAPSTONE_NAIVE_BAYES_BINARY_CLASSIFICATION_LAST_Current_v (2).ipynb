{
  "nbformat": 4,
  "nbformat_minor": 0,
  "metadata": {
    "colab": {
      "provenance": []
    },
    "kernelspec": {
      "name": "python3",
      "display_name": "Python 3"
    },
    "language_info": {
      "name": "python"
    }
  },
  "cells": [
    {
      "cell_type": "markdown",
      "source": [
        "Written by Etienne Ndedi\n",
        "Date: 10-10-2024\n",
        "\n",
        "OBJECTIVE: TRAIN A NAIVE BAYES BINARY CLASSIFICATION MODEL ON THE BIAS_UNBIAS SUBSET OF WIKI NEUTRALITY DATA"
      ],
      "metadata": {
        "id": "Gnz2PzmhM8_1"
      }
    },
    {
      "cell_type": "markdown",
      "source": [
        "- Read our libraries"
      ],
      "metadata": {
        "id": "_g308-FINXfi"
      }
    },
    {
      "cell_type": "code",
      "source": [
        "import pandas as pd\n",
        "import numpy as np\n",
        "import csv\n",
        "from sklearn import preprocessing\n",
        "import spacy\n",
        "%matplotlib inline\n",
        "import matplotlib.pyplot as plt\n",
        "import seaborn as sns\n",
        "sns.set(style=\"white\")\n",
        "sns.set(style=\"whitegrid\",color_codes=True)\n",
        "from sklearn import metrics\n",
        "from sklearn import model_selection\n",
        "from sklearn.feature_extraction.text import TfidfVectorizer\n",
        "from sklearn.model_selection import train_test_split\n",
        "from sklearn.naive_bayes import MultinomialNB\n",
        "from sklearn.pipeline import Pipeline\n",
        "from sklearn.metrics import accuracy_score\n",
        "from sklearn.metrics import confusion_matrix, ConfusionMatrixDisplay, accuracy_score\n",
        "from sklearn.metrics import classification_report\n"
      ],
      "metadata": {
        "id": "AKYMdpuoMntn"
      },
      "execution_count": null,
      "outputs": []
    },
    {
      "cell_type": "markdown",
      "source": [
        "- Read and generate our splits. training and test sets"
      ],
      "metadata": {
        "id": "uwl3OizuO_FS"
      }
    },
    {
      "cell_type": "code",
      "source": [
        "import pandas as pd\n",
        "import csv\n",
        "\n",
        "bias_train_full = pd.read_csv(\"/content/bias_train_full.csv\", on_bad_lines='skip', engine='python')\n"
      ],
      "metadata": {
        "id": "G7WeIcsjRPFP"
      },
      "execution_count": null,
      "outputs": []
    },
    {
      "cell_type": "code",
      "source": [
        "#Create a data set that consists of two columns, df_inputs['plots'] a concatenation of df_inputs['src_raw'] and df_inputs['tgt_raw']\n",
        "df_new = pd.DataFrame(columns=['plots', 'labels'])\n",
        "\n",
        "#Create two data sets, one with df_inputs['src_raw'] another with df_inputs['tgt_raw']\n",
        "df_src = bias_train_full['src_raw']\n",
        "df_tgt = bias_train_full['tgt_raw']\n",
        "\n",
        "#rename df_tgt to 'example'\n",
        "df_tgt = df_tgt.rename('example') # Changed 'columns' to 'name' for Series\n",
        "#create a variable df_tgt['label'] with value 0\n",
        "df_tgt = df_tgt.to_frame() # Convert Series to DataFrame to add a new column\n",
        "df_tgt['label'] = 0\n",
        "#rename df_src to 'example'\n",
        "df_src = df_src.rename('example') # Changed 'columns' to 'name' for Series\n",
        "#create a variable df_src['label'] with value 1\n",
        "df_src = df_src.to_frame() # Convert Series to DataFrame to add a new column\n",
        "df_src['label'] = 1\n",
        "# Concatenate df_src and df_tgt to have a larger data set that we will shuffle\n",
        "# This data set bias_unbias will have both the positive and negative labels\n",
        "bias_unbias = pd.concat([df_src, df_tgt])\n",
        "# Shuffle the data set\n",
        "bias_unbias_train = bias_unbias.sample(frac=1).reset_index(drop=True)\n",
        "\n",
        "# Print the number of rows in the DataFrame\n",
        "print(f\"Number of rows in DataFrame: {len(bias_unbias_train)}\")\n",
        "\n",
        "# Print the number of columns in the DataFrame\n",
        "print(f\"Number of columns in DataFrame: {len(bias_unbias_train.columns)}\")\n",
        "\n",
        "# Print the counts of the label column\n",
        "print(bias_unbias_train['label'].value_counts())\n",
        "\n",
        "# Print the first few rows of the DataFrame\n",
        "bias_unbias_train.head()"
      ],
      "metadata": {
        "colab": {
          "base_uri": "https://localhost:8080/",
          "height": 310
        },
        "id": "p8wN_QzfrvYP",
        "outputId": "880ae2cf-1da4-4e88-8a27-3f68a9d75f18"
      },
      "execution_count": null,
      "outputs": [
        {
          "output_type": "stream",
          "name": "stdout",
          "text": [
            "Number of rows in DataFrame: 239540\n",
            "Number of columns in DataFrame: 2\n",
            "label\n",
            "1    119770\n",
            "0    119770\n",
            "Name: count, dtype: int64\n"
          ]
        },
        {
          "output_type": "execute_result",
          "data": {
            "text/plain": [
              "                                             example  label\n",
              "0  talend - global leader in open source integrat...      1\n",
              "1  unfortunately, many of these houses were demol...      1\n",
              "2  long beach has an excellent \"on-line news agen...      1\n",
              "3  tom wilkinson as james reid, britt's wealthy f...      0\n",
              "4  he was a doctor of the university of montpelli...      1"
            ],
            "text/html": [
              "\n",
              "  <div id=\"df-95adb393-4e0f-4905-b4f0-b16e4a99f924\" class=\"colab-df-container\">\n",
              "    <div>\n",
              "<style scoped>\n",
              "    .dataframe tbody tr th:only-of-type {\n",
              "        vertical-align: middle;\n",
              "    }\n",
              "\n",
              "    .dataframe tbody tr th {\n",
              "        vertical-align: top;\n",
              "    }\n",
              "\n",
              "    .dataframe thead th {\n",
              "        text-align: right;\n",
              "    }\n",
              "</style>\n",
              "<table border=\"1\" class=\"dataframe\">\n",
              "  <thead>\n",
              "    <tr style=\"text-align: right;\">\n",
              "      <th></th>\n",
              "      <th>example</th>\n",
              "      <th>label</th>\n",
              "    </tr>\n",
              "  </thead>\n",
              "  <tbody>\n",
              "    <tr>\n",
              "      <th>0</th>\n",
              "      <td>talend - global leader in open source integrat...</td>\n",
              "      <td>1</td>\n",
              "    </tr>\n",
              "    <tr>\n",
              "      <th>1</th>\n",
              "      <td>unfortunately, many of these houses were demol...</td>\n",
              "      <td>1</td>\n",
              "    </tr>\n",
              "    <tr>\n",
              "      <th>2</th>\n",
              "      <td>long beach has an excellent \"on-line news agen...</td>\n",
              "      <td>1</td>\n",
              "    </tr>\n",
              "    <tr>\n",
              "      <th>3</th>\n",
              "      <td>tom wilkinson as james reid, britt's wealthy f...</td>\n",
              "      <td>0</td>\n",
              "    </tr>\n",
              "    <tr>\n",
              "      <th>4</th>\n",
              "      <td>he was a doctor of the university of montpelli...</td>\n",
              "      <td>1</td>\n",
              "    </tr>\n",
              "  </tbody>\n",
              "</table>\n",
              "</div>\n",
              "    <div class=\"colab-df-buttons\">\n",
              "\n",
              "  <div class=\"colab-df-container\">\n",
              "    <button class=\"colab-df-convert\" onclick=\"convertToInteractive('df-95adb393-4e0f-4905-b4f0-b16e4a99f924')\"\n",
              "            title=\"Convert this dataframe to an interactive table.\"\n",
              "            style=\"display:none;\">\n",
              "\n",
              "  <svg xmlns=\"http://www.w3.org/2000/svg\" height=\"24px\" viewBox=\"0 -960 960 960\">\n",
              "    <path d=\"M120-120v-720h720v720H120Zm60-500h600v-160H180v160Zm220 220h160v-160H400v160Zm0 220h160v-160H400v160ZM180-400h160v-160H180v160Zm440 0h160v-160H620v160ZM180-180h160v-160H180v160Zm440 0h160v-160H620v160Z\"/>\n",
              "  </svg>\n",
              "    </button>\n",
              "\n",
              "  <style>\n",
              "    .colab-df-container {\n",
              "      display:flex;\n",
              "      gap: 12px;\n",
              "    }\n",
              "\n",
              "    .colab-df-convert {\n",
              "      background-color: #E8F0FE;\n",
              "      border: none;\n",
              "      border-radius: 50%;\n",
              "      cursor: pointer;\n",
              "      display: none;\n",
              "      fill: #1967D2;\n",
              "      height: 32px;\n",
              "      padding: 0 0 0 0;\n",
              "      width: 32px;\n",
              "    }\n",
              "\n",
              "    .colab-df-convert:hover {\n",
              "      background-color: #E2EBFA;\n",
              "      box-shadow: 0px 1px 2px rgba(60, 64, 67, 0.3), 0px 1px 3px 1px rgba(60, 64, 67, 0.15);\n",
              "      fill: #174EA6;\n",
              "    }\n",
              "\n",
              "    .colab-df-buttons div {\n",
              "      margin-bottom: 4px;\n",
              "    }\n",
              "\n",
              "    [theme=dark] .colab-df-convert {\n",
              "      background-color: #3B4455;\n",
              "      fill: #D2E3FC;\n",
              "    }\n",
              "\n",
              "    [theme=dark] .colab-df-convert:hover {\n",
              "      background-color: #434B5C;\n",
              "      box-shadow: 0px 1px 3px 1px rgba(0, 0, 0, 0.15);\n",
              "      filter: drop-shadow(0px 1px 2px rgba(0, 0, 0, 0.3));\n",
              "      fill: #FFFFFF;\n",
              "    }\n",
              "  </style>\n",
              "\n",
              "    <script>\n",
              "      const buttonEl =\n",
              "        document.querySelector('#df-95adb393-4e0f-4905-b4f0-b16e4a99f924 button.colab-df-convert');\n",
              "      buttonEl.style.display =\n",
              "        google.colab.kernel.accessAllowed ? 'block' : 'none';\n",
              "\n",
              "      async function convertToInteractive(key) {\n",
              "        const element = document.querySelector('#df-95adb393-4e0f-4905-b4f0-b16e4a99f924');\n",
              "        const dataTable =\n",
              "          await google.colab.kernel.invokeFunction('convertToInteractive',\n",
              "                                                    [key], {});\n",
              "        if (!dataTable) return;\n",
              "\n",
              "        const docLinkHtml = 'Like what you see? Visit the ' +\n",
              "          '<a target=\"_blank\" href=https://colab.research.google.com/notebooks/data_table.ipynb>data table notebook</a>'\n",
              "          + ' to learn more about interactive tables.';\n",
              "        element.innerHTML = '';\n",
              "        dataTable['output_type'] = 'display_data';\n",
              "        await google.colab.output.renderOutput(dataTable, element);\n",
              "        const docLink = document.createElement('div');\n",
              "        docLink.innerHTML = docLinkHtml;\n",
              "        element.appendChild(docLink);\n",
              "      }\n",
              "    </script>\n",
              "  </div>\n",
              "\n",
              "\n",
              "<div id=\"df-56eb4eaf-cb20-4fc0-90ef-dacbac6b414b\">\n",
              "  <button class=\"colab-df-quickchart\" onclick=\"quickchart('df-56eb4eaf-cb20-4fc0-90ef-dacbac6b414b')\"\n",
              "            title=\"Suggest charts\"\n",
              "            style=\"display:none;\">\n",
              "\n",
              "<svg xmlns=\"http://www.w3.org/2000/svg\" height=\"24px\"viewBox=\"0 0 24 24\"\n",
              "     width=\"24px\">\n",
              "    <g>\n",
              "        <path d=\"M19 3H5c-1.1 0-2 .9-2 2v14c0 1.1.9 2 2 2h14c1.1 0 2-.9 2-2V5c0-1.1-.9-2-2-2zM9 17H7v-7h2v7zm4 0h-2V7h2v10zm4 0h-2v-4h2v4z\"/>\n",
              "    </g>\n",
              "</svg>\n",
              "  </button>\n",
              "\n",
              "<style>\n",
              "  .colab-df-quickchart {\n",
              "      --bg-color: #E8F0FE;\n",
              "      --fill-color: #1967D2;\n",
              "      --hover-bg-color: #E2EBFA;\n",
              "      --hover-fill-color: #174EA6;\n",
              "      --disabled-fill-color: #AAA;\n",
              "      --disabled-bg-color: #DDD;\n",
              "  }\n",
              "\n",
              "  [theme=dark] .colab-df-quickchart {\n",
              "      --bg-color: #3B4455;\n",
              "      --fill-color: #D2E3FC;\n",
              "      --hover-bg-color: #434B5C;\n",
              "      --hover-fill-color: #FFFFFF;\n",
              "      --disabled-bg-color: #3B4455;\n",
              "      --disabled-fill-color: #666;\n",
              "  }\n",
              "\n",
              "  .colab-df-quickchart {\n",
              "    background-color: var(--bg-color);\n",
              "    border: none;\n",
              "    border-radius: 50%;\n",
              "    cursor: pointer;\n",
              "    display: none;\n",
              "    fill: var(--fill-color);\n",
              "    height: 32px;\n",
              "    padding: 0;\n",
              "    width: 32px;\n",
              "  }\n",
              "\n",
              "  .colab-df-quickchart:hover {\n",
              "    background-color: var(--hover-bg-color);\n",
              "    box-shadow: 0 1px 2px rgba(60, 64, 67, 0.3), 0 1px 3px 1px rgba(60, 64, 67, 0.15);\n",
              "    fill: var(--button-hover-fill-color);\n",
              "  }\n",
              "\n",
              "  .colab-df-quickchart-complete:disabled,\n",
              "  .colab-df-quickchart-complete:disabled:hover {\n",
              "    background-color: var(--disabled-bg-color);\n",
              "    fill: var(--disabled-fill-color);\n",
              "    box-shadow: none;\n",
              "  }\n",
              "\n",
              "  .colab-df-spinner {\n",
              "    border: 2px solid var(--fill-color);\n",
              "    border-color: transparent;\n",
              "    border-bottom-color: var(--fill-color);\n",
              "    animation:\n",
              "      spin 1s steps(1) infinite;\n",
              "  }\n",
              "\n",
              "  @keyframes spin {\n",
              "    0% {\n",
              "      border-color: transparent;\n",
              "      border-bottom-color: var(--fill-color);\n",
              "      border-left-color: var(--fill-color);\n",
              "    }\n",
              "    20% {\n",
              "      border-color: transparent;\n",
              "      border-left-color: var(--fill-color);\n",
              "      border-top-color: var(--fill-color);\n",
              "    }\n",
              "    30% {\n",
              "      border-color: transparent;\n",
              "      border-left-color: var(--fill-color);\n",
              "      border-top-color: var(--fill-color);\n",
              "      border-right-color: var(--fill-color);\n",
              "    }\n",
              "    40% {\n",
              "      border-color: transparent;\n",
              "      border-right-color: var(--fill-color);\n",
              "      border-top-color: var(--fill-color);\n",
              "    }\n",
              "    60% {\n",
              "      border-color: transparent;\n",
              "      border-right-color: var(--fill-color);\n",
              "    }\n",
              "    80% {\n",
              "      border-color: transparent;\n",
              "      border-right-color: var(--fill-color);\n",
              "      border-bottom-color: var(--fill-color);\n",
              "    }\n",
              "    90% {\n",
              "      border-color: transparent;\n",
              "      border-bottom-color: var(--fill-color);\n",
              "    }\n",
              "  }\n",
              "</style>\n",
              "\n",
              "  <script>\n",
              "    async function quickchart(key) {\n",
              "      const quickchartButtonEl =\n",
              "        document.querySelector('#' + key + ' button');\n",
              "      quickchartButtonEl.disabled = true;  // To prevent multiple clicks.\n",
              "      quickchartButtonEl.classList.add('colab-df-spinner');\n",
              "      try {\n",
              "        const charts = await google.colab.kernel.invokeFunction(\n",
              "            'suggestCharts', [key], {});\n",
              "      } catch (error) {\n",
              "        console.error('Error during call to suggestCharts:', error);\n",
              "      }\n",
              "      quickchartButtonEl.classList.remove('colab-df-spinner');\n",
              "      quickchartButtonEl.classList.add('colab-df-quickchart-complete');\n",
              "    }\n",
              "    (() => {\n",
              "      let quickchartButtonEl =\n",
              "        document.querySelector('#df-56eb4eaf-cb20-4fc0-90ef-dacbac6b414b button');\n",
              "      quickchartButtonEl.style.display =\n",
              "        google.colab.kernel.accessAllowed ? 'block' : 'none';\n",
              "    })();\n",
              "  </script>\n",
              "</div>\n",
              "\n",
              "    </div>\n",
              "  </div>\n"
            ],
            "application/vnd.google.colaboratory.intrinsic+json": {
              "type": "dataframe",
              "variable_name": "bias_unbias_train"
            }
          },
          "metadata": {},
          "execution_count": 3
        }
      ]
    },
    {
      "cell_type": "markdown",
      "source": [
        " At this juncture there are no balancing issues as the plots columns and labels came from\n",
        "two columns sourced from the same subset named biased.full"
      ],
      "metadata": {
        "id": "mH7L3rlYsTlb"
      }
    },
    {
      "cell_type": "code",
      "source": [
        "label_names = ['Unbiased', 'Biased']\n",
        "labels_names = bias_unbias_train['label'].value_counts()\n",
        "title = 'unbiased and biased text counts'\n",
        "plt.figure(figsize=(5,2.5))\n",
        "plt.title(title)\n",
        "plt.bar(label_names, labels_names)\n",
        "plt.show()"
      ],
      "metadata": {
        "colab": {
          "base_uri": "https://localhost:8080/",
          "height": 280
        },
        "id": "1MM2YjpirvNV",
        "outputId": "d99a9057-a07d-4082-b38c-a8a1e9e719ac"
      },
      "execution_count": null,
      "outputs": [
        {
          "output_type": "display_data",
          "data": {
            "text/plain": [
              "<Figure size 500x250 with 1 Axes>"
            ],
            "image/png": "[encoded data removed]"
          },
          "metadata": {}
        }
      ]
    },
    {
      "cell_type": "code",
      "source": [
        "print(len(bias_unbias_train))"
      ],
      "metadata": {
        "colab": {
          "base_uri": "https://localhost:8080/"
        },
        "id": "PXtkqRSZwXZo",
        "outputId": "a47c96d9-9180-495f-c8fd-c3999994ce41"
      },
      "execution_count": null,
      "outputs": [
        {
          "output_type": "stream",
          "name": "stdout",
          "text": [
            "239540\n"
          ]
        }
      ]
    },
    {
      "cell_type": "markdown",
      "source": [
        "Do same binarization massaging for test"
      ],
      "metadata": {
        "id": "Sr6h9DcUsvYL"
      }
    },
    {
      "cell_type": "code",
      "source": [
        "bias_test_full = pd.read_csv(\"/content/bias_test_full.csv\", on_bad_lines='skip', engine='python')\n",
        "len(bias_test_full)"
      ],
      "metadata": {
        "colab": {
          "base_uri": "https://localhost:8080/"
        },
        "id": "BmRaD3iMrvC1",
        "outputId": "43cbeaf2-f322-4305-c56b-44a29a5d34c8"
      },
      "execution_count": null,
      "outputs": [
        {
          "output_type": "execute_result",
          "data": {
            "text/plain": [
              "25666"
            ]
          },
          "metadata": {},
          "execution_count": 16
        }
      ]
    },
    {
      "cell_type": "code",
      "source": [
        "#Create two data sets, one with df_inputs['src_raw'] another with df_inputs['tgt_raw']\n",
        "df_src = bias_test_full['src_raw']\n",
        "df_tgt = bias_test_full['tgt_raw']\n",
        "\n",
        "#rename df_tgt to 'example'\n",
        "df_tgt = df_tgt.rename('example') # Changed 'columns' to 'name' for Series\n",
        "#create a variable df_tgt['label'] with value 0\n",
        "df_tgt = df_tgt.to_frame() # Convert Series to DataFrame to add a new column\n",
        "df_tgt['label'] = 0\n",
        "#rename df_src to 'example'\n",
        "df_src = df_src.rename('example') # Changed 'columns' to 'name' for Series\n",
        "#create a variable df_src['label'] with value 1\n",
        "df_src = df_src.to_frame() # Convert Series to DataFrame to add a new column\n",
        "df_src['label'] = 1\n",
        "# Concatenate df_src and df_tgt to have a larger data set that we will shuffle\n",
        "# This data set bias_unbias will have both the positive and negative labels\n",
        "bias_unbias_test = pd.concat([df_src, df_tgt])\n",
        "# Shuffle the data set\n",
        "bias_unbias_test = bias_unbias_test.sample(frac=1).reset_index(drop=True)\n",
        "\n",
        "# Print the number of rows in the DataFrame\n",
        "print(f\"Number of rows in DataFrame: {len(bias_unbias_test)}\")\n",
        "\n",
        "# Print the number of columns in the DataFrame\n",
        "print(f\"Number of columns in DataFrame: {len(bias_unbias_test.columns)}\")\n",
        "\n",
        "# Print the counts of the label column\n",
        "print(bias_unbias_test['label'].value_counts())\n",
        "\n",
        "# Print the first few rows of the DataFrame\n",
        "bias_unbias_test.head()"
      ],
      "metadata": {
        "colab": {
          "base_uri": "https://localhost:8080/",
          "height": 310
        },
        "id": "9qnQK43ntLOC",
        "outputId": "3ff52fb1-a226-475d-e95a-8d1ed86fea90"
      },
      "execution_count": null,
      "outputs": [
        {
          "output_type": "stream",
          "name": "stdout",
          "text": [
            "Number of rows in DataFrame: 51332\n",
            "Number of columns in DataFrame: 2\n",
            "label\n",
            "1    25666\n",
            "0    25666\n",
            "Name: count, dtype: int64\n"
          ]
        },
        {
          "output_type": "execute_result",
          "data": {
            "text/plain": [
              "                                             example  label\n",
              "0  some irish republicans, including cahir healy,...      1\n",
              "1  the state of north dakota , lacking anything e...      1\n",
              "2  of this, more than $3 million was donated prim...      1\n",
              "3  in a third incident, in spain, terrorists take...      0\n",
              "4  22 years younger than swift, it was obvious fr...      0"
            ],
            "text/html": [
              "\n",
              "  <div id=\"df-af5a8787-773b-4ac6-833e-35e5fc1a548a\" class=\"colab-df-container\">\n",
              "    <div>\n",
              "<style scoped>\n",
              "    .dataframe tbody tr th:only-of-type {\n",
              "        vertical-align: middle;\n",
              "    }\n",
              "\n",
              "    .dataframe tbody tr th {\n",
              "        vertical-align: top;\n",
              "    }\n",
              "\n",
              "    .dataframe thead th {\n",
              "        text-align: right;\n",
              "    }\n",
              "</style>\n",
              "<table border=\"1\" class=\"dataframe\">\n",
              "  <thead>\n",
              "    <tr style=\"text-align: right;\">\n",
              "      <th></th>\n",
              "      <th>example</th>\n",
              "      <th>label</th>\n",
              "    </tr>\n",
              "  </thead>\n",
              "  <tbody>\n",
              "    <tr>\n",
              "      <th>0</th>\n",
              "      <td>some irish republicans, including cahir healy,...</td>\n",
              "      <td>1</td>\n",
              "    </tr>\n",
              "    <tr>\n",
              "      <th>1</th>\n",
              "      <td>the state of north dakota , lacking anything e...</td>\n",
              "      <td>1</td>\n",
              "    </tr>\n",
              "    <tr>\n",
              "      <th>2</th>\n",
              "      <td>of this, more than $3 million was donated prim...</td>\n",
              "      <td>1</td>\n",
              "    </tr>\n",
              "    <tr>\n",
              "      <th>3</th>\n",
              "      <td>in a third incident, in spain, terrorists take...</td>\n",
              "      <td>0</td>\n",
              "    </tr>\n",
              "    <tr>\n",
              "      <th>4</th>\n",
              "      <td>22 years younger than swift, it was obvious fr...</td>\n",
              "      <td>0</td>\n",
              "    </tr>\n",
              "  </tbody>\n",
              "</table>\n",
              "</div>\n",
              "    <div class=\"colab-df-buttons\">\n",
              "\n",
              "  <div class=\"colab-df-container\">\n",
              "    <button class=\"colab-df-convert\" onclick=\"convertToInteractive('df-af5a8787-773b-4ac6-833e-35e5fc1a548a')\"\n",
              "            title=\"Convert this dataframe to an interactive table.\"\n",
              "            style=\"display:none;\">\n",
              "\n",
              "  <svg xmlns=\"http://www.w3.org/2000/svg\" height=\"24px\" viewBox=\"0 -960 960 960\">\n",
              "    <path d=\"M120-120v-720h720v720H120Zm60-500h600v-160H180v160Zm220 220h160v-160H400v160Zm0 220h160v-160H400v160ZM180-400h160v-160H180v160Zm440 0h160v-160H620v160ZM180-180h160v-160H180v160Zm440 0h160v-160H620v160Z\"/>\n",
              "  </svg>\n",
              "    </button>\n",
              "\n",
              "  <style>\n",
              "    .colab-df-container {\n",
              "      display:flex;\n",
              "      gap: 12px;\n",
              "    }\n",
              "\n",
              "    .colab-df-convert {\n",
              "      background-color: #E8F0FE;\n",
              "      border: none;\n",
              "      border-radius: 50%;\n",
              "      cursor: pointer;\n",
              "      display: none;\n",
              "      fill: #1967D2;\n",
              "      height: 32px;\n",
              "      padding: 0 0 0 0;\n",
              "      width: 32px;\n",
              "    }\n",
              "\n",
              "    .colab-df-convert:hover {\n",
              "      background-color: #E2EBFA;\n",
              "      box-shadow: 0px 1px 2px rgba(60, 64, 67, 0.3), 0px 1px 3px 1px rgba(60, 64, 67, 0.15);\n",
              "      fill: #174EA6;\n",
              "    }\n",
              "\n",
              "    .colab-df-buttons div {\n",
              "      margin-bottom: 4px;\n",
              "    }\n",
              "\n",
              "    [theme=dark] .colab-df-convert {\n",
              "      background-color: #3B4455;\n",
              "      fill: #D2E3FC;\n",
              "    }\n",
              "\n",
              "    [theme=dark] .colab-df-convert:hover {\n",
              "      background-color: #434B5C;\n",
              "      box-shadow: 0px 1px 3px 1px rgba(0, 0, 0, 0.15);\n",
              "      filter: drop-shadow(0px 1px 2px rgba(0, 0, 0, 0.3));\n",
              "      fill: #FFFFFF;\n",
              "    }\n",
              "  </style>\n",
              "\n",
              "    <script>\n",
              "      const buttonEl =\n",
              "        document.querySelector('#df-af5a8787-773b-4ac6-833e-35e5fc1a548a button.colab-df-convert');\n",
              "      buttonEl.style.display =\n",
              "        google.colab.kernel.accessAllowed ? 'block' : 'none';\n",
              "\n",
              "      async function convertToInteractive(key) {\n",
              "        const element = document.querySelector('#df-af5a8787-773b-4ac6-833e-35e5fc1a548a');\n",
              "        const dataTable =\n",
              "          await google.colab.kernel.invokeFunction('convertToInteractive',\n",
              "                                                    [key], {});\n",
              "        if (!dataTable) return;\n",
              "\n",
              "        const docLinkHtml = 'Like what you see? Visit the ' +\n",
              "          '<a target=\"_blank\" href=https://colab.research.google.com/notebooks/data_table.ipynb>data table notebook</a>'\n",
              "          + ' to learn more about interactive tables.';\n",
              "        element.innerHTML = '';\n",
              "        dataTable['output_type'] = 'display_data';\n",
              "        await google.colab.output.renderOutput(dataTable, element);\n",
              "        const docLink = document.createElement('div');\n",
              "        docLink.innerHTML = docLinkHtml;\n",
              "        element.appendChild(docLink);\n",
              "      }\n",
              "    </script>\n",
              "  </div>\n",
              "\n",
              "\n",
              "<div id=\"df-0564d240-8292-48d0-a0de-1fb49f23a326\">\n",
              "  <button class=\"colab-df-quickchart\" onclick=\"quickchart('df-0564d240-8292-48d0-a0de-1fb49f23a326')\"\n",
              "            title=\"Suggest charts\"\n",
              "            style=\"display:none;\">\n",
              "\n",
              "<svg xmlns=\"http://www.w3.org/2000/svg\" height=\"24px\"viewBox=\"0 0 24 24\"\n",
              "     width=\"24px\">\n",
              "    <g>\n",
              "        <path d=\"M19 3H5c-1.1 0-2 .9-2 2v14c0 1.1.9 2 2 2h14c1.1 0 2-.9 2-2V5c0-1.1-.9-2-2-2zM9 17H7v-7h2v7zm4 0h-2V7h2v10zm4 0h-2v-4h2v4z\"/>\n",
              "    </g>\n",
              "</svg>\n",
              "  </button>\n",
              "\n",
              "<style>\n",
              "  .colab-df-quickchart {\n",
              "      --bg-color: #E8F0FE;\n",
              "      --fill-color: #1967D2;\n",
              "      --hover-bg-color: #E2EBFA;\n",
              "      --hover-fill-color: #174EA6;\n",
              "      --disabled-fill-color: #AAA;\n",
              "      --disabled-bg-color: #DDD;\n",
              "  }\n",
              "\n",
              "  [theme=dark] .colab-df-quickchart {\n",
              "      --bg-color: #3B4455;\n",
              "      --fill-color: #D2E3FC;\n",
              "      --hover-bg-color: #434B5C;\n",
              "      --hover-fill-color: #FFFFFF;\n",
              "      --disabled-bg-color: #3B4455;\n",
              "      --disabled-fill-color: #666;\n",
              "  }\n",
              "\n",
              "  .colab-df-quickchart {\n",
              "    background-color: var(--bg-color);\n",
              "    border: none;\n",
              "    border-radius: 50%;\n",
              "    cursor: pointer;\n",
              "    display: none;\n",
              "    fill: var(--fill-color);\n",
              "    height: 32px;\n",
              "    padding: 0;\n",
              "    width: 32px;\n",
              "  }\n",
              "\n",
              "  .colab-df-quickchart:hover {\n",
              "    background-color: var(--hover-bg-color);\n",
              "    box-shadow: 0 1px 2px rgba(60, 64, 67, 0.3), 0 1px 3px 1px rgba(60, 64, 67, 0.15);\n",
              "    fill: var(--button-hover-fill-color);\n",
              "  }\n",
              "\n",
              "  .colab-df-quickchart-complete:disabled,\n",
              "  .colab-df-quickchart-complete:disabled:hover {\n",
              "    background-color: var(--disabled-bg-color);\n",
              "    fill: var(--disabled-fill-color);\n",
              "    box-shadow: none;\n",
              "  }\n",
              "\n",
              "  .colab-df-spinner {\n",
              "    border: 2px solid var(--fill-color);\n",
              "    border-color: transparent;\n",
              "    border-bottom-color: var(--fill-color);\n",
              "    animation:\n",
              "      spin 1s steps(1) infinite;\n",
              "  }\n",
              "\n",
              "  @keyframes spin {\n",
              "    0% {\n",
              "      border-color: transparent;\n",
              "      border-bottom-color: var(--fill-color);\n",
              "      border-left-color: var(--fill-color);\n",
              "    }\n",
              "    20% {\n",
              "      border-color: transparent;\n",
              "      border-left-color: var(--fill-color);\n",
              "      border-top-color: var(--fill-color);\n",
              "    }\n",
              "    30% {\n",
              "      border-color: transparent;\n",
              "      border-left-color: var(--fill-color);\n",
              "      border-top-color: var(--fill-color);\n",
              "      border-right-color: var(--fill-color);\n",
              "    }\n",
              "    40% {\n",
              "      border-color: transparent;\n",
              "      border-right-color: var(--fill-color);\n",
              "      border-top-color: var(--fill-color);\n",
              "    }\n",
              "    60% {\n",
              "      border-color: transparent;\n",
              "      border-right-color: var(--fill-color);\n",
              "    }\n",
              "    80% {\n",
              "      border-color: transparent;\n",
              "      border-right-color: var(--fill-color);\n",
              "      border-bottom-color: var(--fill-color);\n",
              "    }\n",
              "    90% {\n",
              "      border-color: transparent;\n",
              "      border-bottom-color: var(--fill-color);\n",
              "    }\n",
              "  }\n",
              "</style>\n",
              "\n",
              "  <script>\n",
              "    async function quickchart(key) {\n",
              "      const quickchartButtonEl =\n",
              "        document.querySelector('#' + key + ' button');\n",
              "      quickchartButtonEl.disabled = true;  // To prevent multiple clicks.\n",
              "      quickchartButtonEl.classList.add('colab-df-spinner');\n",
              "      try {\n",
              "        const charts = await google.colab.kernel.invokeFunction(\n",
              "            'suggestCharts', [key], {});\n",
              "      } catch (error) {\n",
              "        console.error('Error during call to suggestCharts:', error);\n",
              "      }\n",
              "      quickchartButtonEl.classList.remove('colab-df-spinner');\n",
              "      quickchartButtonEl.classList.add('colab-df-quickchart-complete');\n",
              "    }\n",
              "    (() => {\n",
              "      let quickchartButtonEl =\n",
              "        document.querySelector('#df-0564d240-8292-48d0-a0de-1fb49f23a326 button');\n",
              "      quickchartButtonEl.style.display =\n",
              "        google.colab.kernel.accessAllowed ? 'block' : 'none';\n",
              "    })();\n",
              "  </script>\n",
              "</div>\n",
              "\n",
              "    </div>\n",
              "  </div>\n"
            ],
            "application/vnd.google.colaboratory.intrinsic+json": {
              "type": "dataframe",
              "variable_name": "bias_unbias_test",
              "summary": "{\n  \"name\": \"bias_unbias_test\",\n  \"rows\": 51332,\n  \"fields\": [\n    {\n      \"column\": \"example\",\n      \"properties\": {\n        \"dtype\": \"string\",\n        \"num_unique_values\": 51330,\n        \"samples\": [\n          \"leaving gwynedd and entering denbighshire the dee flows beneath other historic bridges at llandrillo and cynwyd before arriving at the picturesque town of corwen.\",\n          \"lewis hine project: nationally known project to locate and interview descendants of child laborers photographed by lewis hine\",\n          \"site hosting issues after 2017 unite the right rally\"\n        ],\n        \"semantic_type\": \"\",\n        \"description\": \"\"\n      }\n    },\n    {\n      \"column\": \"label\",\n      \"properties\": {\n        \"dtype\": \"number\",\n        \"std\": 0,\n        \"min\": 0,\n        \"max\": 1,\n        \"num_unique_values\": 2,\n        \"samples\": [\n          0,\n          1\n        ],\n        \"semantic_type\": \"\",\n        \"description\": \"\"\n      }\n    }\n  ]\n}"
            }
          },
          "metadata": {},
          "execution_count": 17
        }
      ]
    },
    {
      "cell_type": "markdown",
      "source": [
        "# No need to do the split as the test data is already available"
      ],
      "metadata": {
        "id": "ZZfJZNsTMG4r"
      }
    },
    {
      "cell_type": "code",
      "source": [
        "train_data = bias_unbias_train['example']\n",
        "train_labels = bias_unbias_train['label']\n",
        "test_data = bias_unbias_test['example']\n",
        "test_labels = bias_unbias_test['label']"
      ],
      "metadata": {
        "id": "m47bcH4bxK1r"
      },
      "execution_count": null,
      "outputs": []
    },
    {
      "cell_type": "markdown",
      "source": [
        "Now that I have my training and testing split we need to now use a TOKENIZER(spacy) on our data, to vectorize our text data.\n",
        "\n",
        "Here we are using the Spacy\n",
        "\n",
        "- I am going to first list a few pipe components; as I do not need then eliminate them. There should be no pipeline components\n",
        "\n",
        "-  Then use the tokenizer"
      ],
      "metadata": {
        "id": "7sWiGMzXU71-"
      }
    },
    {
      "cell_type": "code",
      "source": [
        "#output will be pippes we do not need\n",
        "nlp=spacy.load('en_core_web_sm')\n",
        "nlp.pipe_names"
      ],
      "metadata": {
        "colab": {
          "base_uri": "https://localhost:8080/"
        },
        "id": "9nyFnUuDMjWv",
        "outputId": "7b65621d-508d-4f3a-f4b8-d10ed74619b3"
      },
      "execution_count": null,
      "outputs": [
        {
          "output_type": "execute_result",
          "data": {
            "text/plain": [
              "['tok2vec', 'tagger', 'parser', 'attribute_ruler', 'lemmatizer', 'ner']"
            ]
          },
          "metadata": {},
          "execution_count": 9
        }
      ]
    },
    {
      "cell_type": "code",
      "source": [
        "#ensure no more pipes\n",
        "nlp = spacy.blank('en')\n",
        "nlp.pipe_names"
      ],
      "metadata": {
        "colab": {
          "base_uri": "https://localhost:8080/"
        },
        "id": "S7hjVxYwWhGS",
        "outputId": "69388d46-d575-495f-8b0e-92384abc67f2"
      },
      "execution_count": null,
      "outputs": [
        {
          "output_type": "execute_result",
          "data": {
            "text/plain": [
              "[]"
            ]
          },
          "metadata": {},
          "execution_count": 10
        }
      ]
    },
    {
      "cell_type": "markdown",
      "source": [
        "Now the tokenizer. We need it to take tokens that include only alphabetic characters"
      ],
      "metadata": {
        "id": "A9UW8zX6XVFe"
      }
    },
    {
      "cell_type": "code",
      "source": [
        "def spacy_tokenizer (sentence):\n",
        "  return[t.text for t in nlp(sentence) if \\\n",
        "          not t.is_punct and\\\n",
        "          not t.is_space and\\\n",
        "          t.is_alpha]"
      ],
      "metadata": {
        "id": "ZJo2im-VWoIU"
      },
      "execution_count": null,
      "outputs": []
    },
    {
      "cell_type": "markdown",
      "source": [
        "Now we need to transform the text into a TfidVectorizer for feature vectors"
      ],
      "metadata": {
        "id": "eCYOlPzIXsRm"
      }
    },
    {
      "cell_type": "code",
      "source": [
        "%%time\n",
        "vectorizer = TfidfVectorizer(tokenizer = spacy_tokenizer)\n",
        "train_feature_vects = vectorizer.fit_transform(train_data)"
      ],
      "metadata": {
        "colab": {
          "base_uri": "https://localhost:8080/"
        },
        "id": "2LHS3ywCX8T-",
        "outputId": "6b7258e2-9e06-44c1-e0f5-1593e436a061"
      },
      "execution_count": null,
      "outputs": [
        {
          "output_type": "stream",
          "name": "stderr",
          "text": [
            "/usr/local/lib/python3.10/dist-packages/sklearn/feature_extraction/text.py:521: UserWarning: The parameter 'token_pattern' will not be used since 'tokenizer' is not None'\n",
            "  warnings.warn(\n"
          ]
        },
        {
          "output_type": "stream",
          "name": "stdout",
          "text": [
            "CPU times: user 44.8 s, sys: 754 ms, total: 45.6 s\n",
            "Wall time: 46 s\n"
          ]
        }
      ]
    },
    {
      "cell_type": "markdown",
      "source": [
        "Now that we have the feature vectors we are ready to build A NAIVE BAYES model and see the internal parameters. This kicks off the training under the hood."
      ],
      "metadata": {
        "id": "n3SXwI2nY33a"
      }
    },
    {
      "cell_type": "code",
      "source": [
        "nb_classifier = MultinomialNB()\n",
        "nb_classifier.fit(train_feature_vects, train_labels)\n",
        "nb_classifier.get_params()"
      ],
      "metadata": {
        "colab": {
          "base_uri": "https://localhost:8080/"
        },
        "id": "0pFwGPEcZYg8",
        "outputId": "5690f8b8-8f17-4fde-dfa3-a6765eb5e381"
      },
      "execution_count": null,
      "outputs": [
        {
          "output_type": "execute_result",
          "data": {
            "text/plain": [
              "{'alpha': 1.0, 'class_prior': None, 'fit_prior': True, 'force_alpha': True}"
            ]
          },
          "metadata": {},
          "execution_count": 13
        }
      ]
    },
    {
      "cell_type": "markdown",
      "source": [
        "Let's now evaluate the Naive Bayes with an F1 score. We will ask the model to make prediction on our training set and see the best it can do"
      ],
      "metadata": {
        "id": "ZKkNBEMXZmrg"
      }
    },
    {
      "cell_type": "code",
      "source": [
        "train_preds=nb_classifier.predict(train_feature_vects)\n",
        "print('F1 score on initial training set:{}'.format(metrics.f1_score(train_labels,train_preds,average = 'macro')))"
      ],
      "metadata": {
        "colab": {
          "base_uri": "https://localhost:8080/"
        },
        "id": "fE_OulTzZuQT",
        "outputId": "89eeb819-1e5a-488c-f8c4-d2d92a9ae335"
      },
      "execution_count": null,
      "outputs": [
        {
          "output_type": "stream",
          "name": "stdout",
          "text": [
            "F1 score on initial training set:0.6677634571839446\n"
          ]
        }
      ]
    },
    {
      "cell_type": "markdown",
      "source": [
        "Because the F1 is low, we could see if something could be done to improve it. For instance characters that may still be appearing in the data.  So, we could consider removing these items if we find them (part of another EDA)\n",
        "\n",
        " Once the 2 items are removed we should retrain our model and make predictions on the training set. After this cleaning the following steps could be done:\n",
        "  \n",
        "*   do the train/validation split\n",
        "*   regenerate the Tfidf vectors\n",
        "*   retrain the model\n",
        "\n",
        "FOR NOW, we will skip this this step and just jump to testing since 0.66 is not that bad considering we have additional models to run."
      ],
      "metadata": {
        "id": "0d_a6621cFPQ"
      }
    },
    {
      "cell_type": "markdown",
      "source": [
        "Now, I want to see how the model performs on the testing data. First I need to vectorize the data"
      ],
      "metadata": {
        "id": "AzywESz_dGe0"
      }
    },
    {
      "cell_type": "code",
      "source": [
        "%%time\n",
        "#vectorize the validation data\n",
        "test_feature_vects = vectorizer.transform(test_data) #We should not call fit transform because we built the vocabulary already\n",
        "\n",
        "#Now we want to predict and evaluate\n",
        "test_preds =nb_classifier.predict(test_feature_vects)\n",
        "print('F1 score on testing set before further cleaning (optional): {}'. format(metrics.f1_score(test_labels,test_preds, average = 'macro')))"
      ],
      "metadata": {
        "colab": {
          "base_uri": "https://localhost:8080/"
        },
        "id": "G7xQ64HOdMBS",
        "outputId": "01390f4e-15af-4e2a-d322-cd424a1e1603"
      },
      "execution_count": null,
      "outputs": [
        {
          "output_type": "stream",
          "name": "stdout",
          "text": [
            "F1 score on testing set before further cleaning (optional): 0.6387154435196514\n",
            "CPU times: user 6.32 s, sys: 32.5 ms, total: 6.35 s\n",
            "Wall time: 6.83 s\n"
          ]
        }
      ]
    },
    {
      "cell_type": "markdown",
      "source": [
        "Since this is quite a drop in our F1 score going from 66% in the training set to 63% in the validation set. We need to see what is going on by using a tool like the confusion matrix"
      ],
      "metadata": {
        "id": "D5VdETadeVT8"
      }
    },
    {
      "cell_type": "code",
      "source": [
        "ac = accuracy_score(test_labels, test_preds)\n",
        "print(\"Accuracy: {:.2f}%\".format(ac * 100))"
      ],
      "metadata": {
        "colab": {
          "base_uri": "https://localhost:8080/"
        },
        "id": "hznb0R-gfHDf",
        "outputId": "74847d96-448d-4e0d-efe7-0cddd9119b37"
      },
      "execution_count": null,
      "outputs": [
        {
          "output_type": "stream",
          "name": "stdout",
          "text": [
            "Accuracy: 63.98%\n"
          ]
        }
      ]
    },
    {
      "cell_type": "code",
      "source": [
        "import tensorflow as tf # Import TensorFlow\n",
        "from sklearn.metrics import confusion_matrix, accuracy_score\n",
        "\n",
        "cm = confusion_matrix(test_labels, test_preds)\n",
        "cm = cm / cm.sum(axis=1)[:, tf.newaxis]  # Normalize the confusion matrix\n",
        "print(cm)"
      ],
      "metadata": {
        "colab": {
          "base_uri": "https://localhost:8080/"
        },
        "id": "eWBep5t8fb-G",
        "outputId": "fa1ffb83-aa6f-412c-a30a-593dc526de56"
      },
      "execution_count": null,
      "outputs": [
        {
          "output_type": "stream",
          "name": "stdout",
          "text": [
            "[[0.69344658 0.30655342]\n",
            " [0.41393283 0.58606717]]\n"
          ]
        }
      ]
    },
    {
      "cell_type": "code",
      "source": [
        "label_names = ['No Bias', 'Bias']\n",
        "labels_names = bias_unbias['label'].value_counts()\n",
        "print(labels_names)"
      ],
      "metadata": {
        "colab": {
          "base_uri": "https://localhost:8080/"
        },
        "id": "kzGDGeWNgtM7",
        "outputId": "aed6f542-7f7a-47d9-f8be-90abb95f3643"
      },
      "execution_count": null,
      "outputs": [
        {
          "output_type": "stream",
          "name": "stdout",
          "text": [
            "label\n",
            "1    119770\n",
            "0    119770\n",
            "Name: count, dtype: int64\n"
          ]
        }
      ]
    },
    {
      "cell_type": "code",
      "source": [
        "plt.figure(figsize=(12,6))\n",
        "sns.heatmap(\n",
        "    cm, annot=True,\n",
        "    xticklabels=label_names,\n",
        "    yticklabels=label_names)\n",
        "plt.xlabel(\"Predicted\")\n",
        "plt.ylabel(\"True\")"
      ],
      "metadata": {
        "colab": {
          "base_uri": "https://localhost:8080/",
          "height": 567
        },
        "id": "qwoI8qZvfljX",
        "outputId": "598fca92-33d5-49f0-b37a-d23ffa0cc286"
      },
      "execution_count": null,
      "outputs": [
        {
          "output_type": "execute_result",
          "data": {
            "text/plain": [
              "Text(116.24999999999999, 0.5, 'True')"
            ]
          },
          "metadata": {},
          "execution_count": 24
        },
        {
          "output_type": "display_data",
          "data": {
            "text/plain": [
              "<Figure size 1200x600 with 2 Axes>"
            ],
            "image/png": "[encoded data removed]"
          },
          "metadata": {}
        }
      ]
    },
    {
      "cell_type": "markdown",
      "source": [
        "Our Naive Bayes is a baseline model with a range of 59% to 69% of True Positives and accuracy score below 63.98% in testing; thus improvement is needed. We will now seek to use another classifier which we think has more predictive. First let's see how the model is doing on validation."
      ],
      "metadata": {
        "id": "n6gg8O9Fi5zs"
      }
    },
    {
      "cell_type": "markdown",
      "source": [
        "LET'S NOW TEST THE MODEL ON VALIDATION DATA"
      ],
      "metadata": {
        "id": "ecf5kK1deEmI"
      }
    },
    {
      "cell_type": "code",
      "source": [
        "bias_valid_full = pd.read_csv(\"/content/bias_val_full.csv\", on_bad_lines='skip', engine='python')\n",
        "len(bias_valid_full)"
      ],
      "metadata": {
        "colab": {
          "base_uri": "https://localhost:8080/"
        },
        "id": "gICJJFl4eC4b",
        "outputId": "b6f5418c-47ec-4bfe-929d-afcad6e63145"
      },
      "execution_count": null,
      "outputs": [
        {
          "output_type": "execute_result",
          "data": {
            "text/plain": [
              "25665"
            ]
          },
          "metadata": {},
          "execution_count": 25
        }
      ]
    },
    {
      "cell_type": "code",
      "source": [
        "#Create two data sets, one with df_inputs['src_raw'] another with df_inputs['tgt_raw']\n",
        "df_src = bias_valid_full['src_raw']\n",
        "df_tgt = bias_valid_full['tgt_raw']\n",
        "\n",
        "#rename df_tgt to 'example'\n",
        "df_tgt = df_tgt.rename('example') # Changed 'columns' to 'name' for Series\n",
        "#create a variable df_tgt['label'] with value 0\n",
        "df_tgt = df_tgt.to_frame() # Convert Series to DataFrame to add a new column\n",
        "df_tgt['label'] = 0\n",
        "#rename df_src to 'example'\n",
        "df_src = df_src.rename('example') # Changed 'columns' to 'name' for Series\n",
        "#create a variable df_src['label'] with value 1\n",
        "df_src = df_src.to_frame() # Convert Series to DataFrame to add a new column\n",
        "df_src['label'] = 1\n",
        "# Concatenate df_src and df_tgt to have a larger data set that we will shuffle\n",
        "# This data set bias_unbias will have both the positive and negative labels\n",
        "bias_unbias_valid = pd.concat([df_src, df_tgt])\n",
        "# Shuffle the data set\n",
        "bias_unbias_valid = bias_unbias_valid.sample(frac=1).reset_index(drop=True)\n",
        "\n",
        "# Print the number of rows in the DataFrame\n",
        "print(f\"Number of rows in DataFrame: {len(bias_unbias_valid)}\")\n",
        "\n",
        "# Print the number of columns in the DataFrame\n",
        "print(f\"Number of columns in DataFrame: {len(bias_unbias_valid.columns)}\")\n",
        "\n",
        "# Print the counts of the label column\n",
        "print(bias_unbias_valid['label'].value_counts())\n",
        "\n",
        "# Print the first few rows of the DataFrame\n",
        "bias_unbias_valid.head()"
      ],
      "metadata": {
        "colab": {
          "base_uri": "https://localhost:8080/",
          "height": 310
        },
        "id": "LYXlis7KnK4N",
        "outputId": "3c004792-be4f-4c87-df87-9dbc20c6baab"
      },
      "execution_count": null,
      "outputs": [
        {
          "output_type": "stream",
          "name": "stdout",
          "text": [
            "Number of rows in DataFrame: 51330\n",
            "Number of columns in DataFrame: 2\n",
            "label\n",
            "0    25665\n",
            "1    25665\n",
            "Name: count, dtype: int64\n"
          ]
        },
        {
          "output_type": "execute_result",
          "data": {
            "text/plain": [
              "                                             example  label\n",
              "0  crossroads gps demonstrated its interest in pa...      0\n",
              "1  it is only the eighth film ever to win eight a...      1\n",
              "2  all romance languages (sometimes referred to a...      1\n",
              "3  however, throughout the course of the civil wa...      0\n",
              "4  two other reports collated years after the inc...      1"
            ],
            "text/html": [
              "\n",
              "  <div id=\"df-535bd6c9-4f1a-428f-8f5c-caa35a7b6bf5\" class=\"colab-df-container\">\n",
              "    <div>\n",
              "<style scoped>\n",
              "    .dataframe tbody tr th:only-of-type {\n",
              "        vertical-align: middle;\n",
              "    }\n",
              "\n",
              "    .dataframe tbody tr th {\n",
              "        vertical-align: top;\n",
              "    }\n",
              "\n",
              "    .dataframe thead th {\n",
              "        text-align: right;\n",
              "    }\n",
              "</style>\n",
              "<table border=\"1\" class=\"dataframe\">\n",
              "  <thead>\n",
              "    <tr style=\"text-align: right;\">\n",
              "      <th></th>\n",
              "      <th>example</th>\n",
              "      <th>label</th>\n",
              "    </tr>\n",
              "  </thead>\n",
              "  <tbody>\n",
              "    <tr>\n",
              "      <th>0</th>\n",
              "      <td>crossroads gps demonstrated its interest in pa...</td>\n",
              "      <td>0</td>\n",
              "    </tr>\n",
              "    <tr>\n",
              "      <th>1</th>\n",
              "      <td>it is only the eighth film ever to win eight a...</td>\n",
              "      <td>1</td>\n",
              "    </tr>\n",
              "    <tr>\n",
              "      <th>2</th>\n",
              "      <td>all romance languages (sometimes referred to a...</td>\n",
              "      <td>1</td>\n",
              "    </tr>\n",
              "    <tr>\n",
              "      <th>3</th>\n",
              "      <td>however, throughout the course of the civil wa...</td>\n",
              "      <td>0</td>\n",
              "    </tr>\n",
              "    <tr>\n",
              "      <th>4</th>\n",
              "      <td>two other reports collated years after the inc...</td>\n",
              "      <td>1</td>\n",
              "    </tr>\n",
              "  </tbody>\n",
              "</table>\n",
              "</div>\n",
              "    <div class=\"colab-df-buttons\">\n",
              "\n",
              "  <div class=\"colab-df-container\">\n",
              "    <button class=\"colab-df-convert\" onclick=\"convertToInteractive('df-535bd6c9-4f1a-428f-8f5c-caa35a7b6bf5')\"\n",
              "            title=\"Convert this dataframe to an interactive table.\"\n",
              "            style=\"display:none;\">\n",
              "\n",
              "  <svg xmlns=\"http://www.w3.org/2000/svg\" height=\"24px\" viewBox=\"0 -960 960 960\">\n",
              "    <path d=\"M120-120v-720h720v720H120Zm60-500h600v-160H180v160Zm220 220h160v-160H400v160Zm0 220h160v-160H400v160ZM180-400h160v-160H180v160Zm440 0h160v-160H620v160ZM180-180h160v-160H180v160Zm440 0h160v-160H620v160Z\"/>\n",
              "  </svg>\n",
              "    </button>\n",
              "\n",
              "  <style>\n",
              "    .colab-df-container {\n",
              "      display:flex;\n",
              "      gap: 12px;\n",
              "    }\n",
              "\n",
              "    .colab-df-convert {\n",
              "      background-color: #E8F0FE;\n",
              "      border: none;\n",
              "      border-radius: 50%;\n",
              "      cursor: pointer;\n",
              "      display: none;\n",
              "      fill: #1967D2;\n",
              "      height: 32px;\n",
              "      padding: 0 0 0 0;\n",
              "      width: 32px;\n",
              "    }\n",
              "\n",
              "    .colab-df-convert:hover {\n",
              "      background-color: #E2EBFA;\n",
              "      box-shadow: 0px 1px 2px rgba(60, 64, 67, 0.3), 0px 1px 3px 1px rgba(60, 64, 67, 0.15);\n",
              "      fill: #174EA6;\n",
              "    }\n",
              "\n",
              "    .colab-df-buttons div {\n",
              "      margin-bottom: 4px;\n",
              "    }\n",
              "\n",
              "    [theme=dark] .colab-df-convert {\n",
              "      background-color: #3B4455;\n",
              "      fill: #D2E3FC;\n",
              "    }\n",
              "\n",
              "    [theme=dark] .colab-df-convert:hover {\n",
              "      background-color: #434B5C;\n",
              "      box-shadow: 0px 1px 3px 1px rgba(0, 0, 0, 0.15);\n",
              "      filter: drop-shadow(0px 1px 2px rgba(0, 0, 0, 0.3));\n",
              "      fill: #FFFFFF;\n",
              "    }\n",
              "  </style>\n",
              "\n",
              "    <script>\n",
              "      const buttonEl =\n",
              "        document.querySelector('#df-535bd6c9-4f1a-428f-8f5c-caa35a7b6bf5 button.colab-df-convert');\n",
              "      buttonEl.style.display =\n",
              "        google.colab.kernel.accessAllowed ? 'block' : 'none';\n",
              "\n",
              "      async function convertToInteractive(key) {\n",
              "        const element = document.querySelector('#df-535bd6c9-4f1a-428f-8f5c-caa35a7b6bf5');\n",
              "        const dataTable =\n",
              "          await google.colab.kernel.invokeFunction('convertToInteractive',\n",
              "                                                    [key], {});\n",
              "        if (!dataTable) return;\n",
              "\n",
              "        const docLinkHtml = 'Like what you see? Visit the ' +\n",
              "          '<a target=\"_blank\" href=https://colab.research.google.com/notebooks/data_table.ipynb>data table notebook</a>'\n",
              "          + ' to learn more about interactive tables.';\n",
              "        element.innerHTML = '';\n",
              "        dataTable['output_type'] = 'display_data';\n",
              "        await google.colab.output.renderOutput(dataTable, element);\n",
              "        const docLink = document.createElement('div');\n",
              "        docLink.innerHTML = docLinkHtml;\n",
              "        element.appendChild(docLink);\n",
              "      }\n",
              "    </script>\n",
              "  </div>\n",
              "\n",
              "\n",
              "<div id=\"df-d6c1bef2-0e03-4643-8de8-ecccf38933bc\">\n",
              "  <button class=\"colab-df-quickchart\" onclick=\"quickchart('df-d6c1bef2-0e03-4643-8de8-ecccf38933bc')\"\n",
              "            title=\"Suggest charts\"\n",
              "            style=\"display:none;\">\n",
              "\n",
              "<svg xmlns=\"http://www.w3.org/2000/svg\" height=\"24px\"viewBox=\"0 0 24 24\"\n",
              "     width=\"24px\">\n",
              "    <g>\n",
              "        <path d=\"M19 3H5c-1.1 0-2 .9-2 2v14c0 1.1.9 2 2 2h14c1.1 0 2-.9 2-2V5c0-1.1-.9-2-2-2zM9 17H7v-7h2v7zm4 0h-2V7h2v10zm4 0h-2v-4h2v4z\"/>\n",
              "    </g>\n",
              "</svg>\n",
              "  </button>\n",
              "\n",
              "<style>\n",
              "  .colab-df-quickchart {\n",
              "      --bg-color: #E8F0FE;\n",
              "      --fill-color: #1967D2;\n",
              "      --hover-bg-color: #E2EBFA;\n",
              "      --hover-fill-color: #174EA6;\n",
              "      --disabled-fill-color: #AAA;\n",
              "      --disabled-bg-color: #DDD;\n",
              "  }\n",
              "\n",
              "  [theme=dark] .colab-df-quickchart {\n",
              "      --bg-color: #3B4455;\n",
              "      --fill-color: #D2E3FC;\n",
              "      --hover-bg-color: #434B5C;\n",
              "      --hover-fill-color: #FFFFFF;\n",
              "      --disabled-bg-color: #3B4455;\n",
              "      --disabled-fill-color: #666;\n",
              "  }\n",
              "\n",
              "  .colab-df-quickchart {\n",
              "    background-color: var(--bg-color);\n",
              "    border: none;\n",
              "    border-radius: 50%;\n",
              "    cursor: pointer;\n",
              "    display: none;\n",
              "    fill: var(--fill-color);\n",
              "    height: 32px;\n",
              "    padding: 0;\n",
              "    width: 32px;\n",
              "  }\n",
              "\n",
              "  .colab-df-quickchart:hover {\n",
              "    background-color: var(--hover-bg-color);\n",
              "    box-shadow: 0 1px 2px rgba(60, 64, 67, 0.3), 0 1px 3px 1px rgba(60, 64, 67, 0.15);\n",
              "    fill: var(--button-hover-fill-color);\n",
              "  }\n",
              "\n",
              "  .colab-df-quickchart-complete:disabled,\n",
              "  .colab-df-quickchart-complete:disabled:hover {\n",
              "    background-color: var(--disabled-bg-color);\n",
              "    fill: var(--disabled-fill-color);\n",
              "    box-shadow: none;\n",
              "  }\n",
              "\n",
              "  .colab-df-spinner {\n",
              "    border: 2px solid var(--fill-color);\n",
              "    border-color: transparent;\n",
              "    border-bottom-color: var(--fill-color);\n",
              "    animation:\n",
              "      spin 1s steps(1) infinite;\n",
              "  }\n",
              "\n",
              "  @keyframes spin {\n",
              "    0% {\n",
              "      border-color: transparent;\n",
              "      border-bottom-color: var(--fill-color);\n",
              "      border-left-color: var(--fill-color);\n",
              "    }\n",
              "    20% {\n",
              "      border-color: transparent;\n",
              "      border-left-color: var(--fill-color);\n",
              "      border-top-color: var(--fill-color);\n",
              "    }\n",
              "    30% {\n",
              "      border-color: transparent;\n",
              "      border-left-color: var(--fill-color);\n",
              "      border-top-color: var(--fill-color);\n",
              "      border-right-color: var(--fill-color);\n",
              "    }\n",
              "    40% {\n",
              "      border-color: transparent;\n",
              "      border-right-color: var(--fill-color);\n",
              "      border-top-color: var(--fill-color);\n",
              "    }\n",
              "    60% {\n",
              "      border-color: transparent;\n",
              "      border-right-color: var(--fill-color);\n",
              "    }\n",
              "    80% {\n",
              "      border-color: transparent;\n",
              "      border-right-color: var(--fill-color);\n",
              "      border-bottom-color: var(--fill-color);\n",
              "    }\n",
              "    90% {\n",
              "      border-color: transparent;\n",
              "      border-bottom-color: var(--fill-color);\n",
              "    }\n",
              "  }\n",
              "</style>\n",
              "\n",
              "  <script>\n",
              "    async function quickchart(key) {\n",
              "      const quickchartButtonEl =\n",
              "        document.querySelector('#' + key + ' button');\n",
              "      quickchartButtonEl.disabled = true;  // To prevent multiple clicks.\n",
              "      quickchartButtonEl.classList.add('colab-df-spinner');\n",
              "      try {\n",
              "        const charts = await google.colab.kernel.invokeFunction(\n",
              "            'suggestCharts', [key], {});\n",
              "      } catch (error) {\n",
              "        console.error('Error during call to suggestCharts:', error);\n",
              "      }\n",
              "      quickchartButtonEl.classList.remove('colab-df-spinner');\n",
              "      quickchartButtonEl.classList.add('colab-df-quickchart-complete');\n",
              "    }\n",
              "    (() => {\n",
              "      let quickchartButtonEl =\n",
              "        document.querySelector('#df-d6c1bef2-0e03-4643-8de8-ecccf38933bc button');\n",
              "      quickchartButtonEl.style.display =\n",
              "        google.colab.kernel.accessAllowed ? 'block' : 'none';\n",
              "    })();\n",
              "  </script>\n",
              "</div>\n",
              "\n",
              "    </div>\n",
              "  </div>\n"
            ],
            "application/vnd.google.colaboratory.intrinsic+json": {
              "type": "dataframe",
              "variable_name": "bias_unbias_valid",
              "summary": "{\n  \"name\": \"bias_unbias_valid\",\n  \"rows\": 51330,\n  \"fields\": [\n    {\n      \"column\": \"example\",\n      \"properties\": {\n        \"dtype\": \"string\",\n        \"num_unique_values\": 51327,\n        \"samples\": [\n          \"after his death in 1961, nityananda's ganeshpuri ashram was converted into a samadhi shrine and has subsequently become a renowned temple and pilgrimage site.\",\n          \"matusz attended the university of san diego, where he played on the school's baseball team as a starting pitcher.\",\n          \"the flight from washington dulles international airport to los angeles international airport was hijacked by five islamic extremists less than 35\\u00a0minutes into the flight.\"\n        ],\n        \"semantic_type\": \"\",\n        \"description\": \"\"\n      }\n    },\n    {\n      \"column\": \"label\",\n      \"properties\": {\n        \"dtype\": \"number\",\n        \"std\": 0,\n        \"min\": 0,\n        \"max\": 1,\n        \"num_unique_values\": 2,\n        \"samples\": [\n          1,\n          0\n        ],\n        \"semantic_type\": \"\",\n        \"description\": \"\"\n      }\n    }\n  ]\n}"
            }
          },
          "metadata": {},
          "execution_count": 26
        }
      ]
    },
    {
      "cell_type": "code",
      "source": [
        "valid_data = bias_unbias_valid['example']\n",
        "valid_labels = bias_unbias_valid['label']"
      ],
      "metadata": {
        "id": "sJq4X2jIpQLM"
      },
      "execution_count": null,
      "outputs": []
    },
    {
      "cell_type": "markdown",
      "source": [
        "Vectorize validation data and test"
      ],
      "metadata": {
        "id": "kqK4RaUYoPo6"
      }
    },
    {
      "cell_type": "code",
      "source": [
        "%%time\n",
        "#vectorize the validation data\n",
        "valid_feature_vects = vectorizer.transform(valid_data) #We should not call fit transform because we built the vocabulary already\n",
        "\n",
        "#Now we want to predict and evaluate\n",
        "valid_preds =nb_classifier.predict(valid_feature_vects)\n",
        "print('F1 score on validation set before further cleaning (optional): {}'. format(metrics.f1_score(valid_labels,valid_preds, average = 'macro')))"
      ],
      "metadata": {
        "colab": {
          "base_uri": "https://localhost:8080/"
        },
        "id": "dQIt_5JjoOYj",
        "outputId": "d4d8a77a-08c4-42b0-f915-8296d7a39b91"
      },
      "execution_count": null,
      "outputs": [
        {
          "output_type": "stream",
          "name": "stdout",
          "text": [
            "F1 score on validation set before further cleaning (optional): 0.640901573056323\n",
            "CPU times: user 9.16 s, sys: 64.9 ms, total: 9.22 s\n",
            "Wall time: 9.36 s\n"
          ]
        }
      ]
    },
    {
      "cell_type": "markdown",
      "source": [
        "Let's go after the confusion matrix in this case as well."
      ],
      "metadata": {
        "id": "odV-3kS1p52q"
      }
    },
    {
      "cell_type": "code",
      "source": [
        "ac = accuracy_score(valid_labels, valid_preds)\n",
        "print(\"Accuracy: {:.2f}%\".format(ac * 100))"
      ],
      "metadata": {
        "colab": {
          "base_uri": "https://localhost:8080/"
        },
        "id": "2MrT9wkVqGYH",
        "outputId": "02cef5cb-b530-4d7a-fe61-bdcaef65ef53"
      },
      "execution_count": null,
      "outputs": [
        {
          "output_type": "stream",
          "name": "stdout",
          "text": [
            "Accuracy: 64.19%\n"
          ]
        }
      ]
    }
  ]
}